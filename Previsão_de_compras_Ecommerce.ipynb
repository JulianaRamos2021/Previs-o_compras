{
  "nbformat": 4,
  "nbformat_minor": 0,
  "metadata": {
    "colab": {
      "provenance": [],
      "collapsed_sections": [
        "_cAJluIoLsK9",
        "tF3XxKcRe-GU"
      ],
      "mount_file_id": "1dr-xQnTFbAwHo4B_soh8Rrb7XseVgC0f",
      "authorship_tag": "ABX9TyMbuub38CXv/bG3Ox50pJAW",
      "include_colab_link": true
    },
    "kernelspec": {
      "name": "python3",
      "display_name": "Python 3"
    },
    "language_info": {
      "name": "python"
    }
  },
  "cells": [
    {
      "cell_type": "markdown",
      "metadata": {
        "id": "view-in-github",
        "colab_type": "text"
      },
      "source": [
        "<a href=\"https://colab.research.google.com/github/JulianaRamos2021/Previsao_compras/blob/main/Previs%C3%A3o_de_compras_Ecommerce.ipynb\" target=\"_parent\"><img src=\"https://colab.research.google.com/assets/colab-badge.svg\" alt=\"Open In Colab\"/></a>"
      ]
    },
    {
      "cell_type": "markdown",
      "source": [
        "#Usando SVM para prever intenção de compra.\n"
      ],
      "metadata": {
        "id": "_cAJluIoLsK9"
      }
    },
    {
      "cell_type": "markdown",
      "source": [
        "Baixando bibliotecas e pacotes necessários para o trabalho."
      ],
      "metadata": {
        "id": "GTipB8IQibT1"
      }
    },
    {
      "cell_type": "code",
      "execution_count": 169,
      "metadata": {
        "colab": {
          "base_uri": "https://localhost:8080/"
        },
        "id": "iYCCi3DXLfaa",
        "outputId": "62e38660-b592-4a8b-8ade-9fbf8566f1d5"
      },
      "outputs": [
        {
          "output_type": "stream",
          "name": "stdout",
          "text": [
            "Versão da linguagem Python Usada neste Jupyter Notebook: 3.7.15\n"
          ]
        }
      ],
      "source": [
        "from platform import python_version\n",
        "print('Versão da linguagem Python Usada neste Jupyter Notebook:', python_version())"
      ]
    },
    {
      "cell_type": "code",
      "source": [
        "#Instalar pacote Watermark. Pacote grava versões de outros pacotes neste jupyter notebook.\n",
        "!pip install -q -U watermark"
      ],
      "metadata": {
        "id": "6nQeM_pzQxVI"
      },
      "execution_count": 170,
      "outputs": []
    },
    {
      "cell_type": "code",
      "source": [
        "#Pacotes que precisaremos para o projeto\n",
        "import time\n",
        "import numpy as np\n",
        "import pandas as pd\n",
        "import seaborn as sns\n",
        "import matplotlib.pyplot as plt\n",
        "from sklearn.preprocessing import StandardScaler\n",
        "from sklearn.preprocessing import LabelEncoder\n",
        "from sklearn.model_selection import train_test_split\n",
        "from sklearn.model_selection import GridSearchCV\n",
        "from sklearn.metrics import precision_score, recall_score, f1_score, accuracy_score, roc_auc_score\n",
        "from sklearn import svm\n",
        "import sklearn\n",
        "import matplotlib\n",
        "import warnings\n",
        "warnings.filterwarnings(\"ignore\") \n",
        "\n",
        "\n"
      ],
      "metadata": {
        "id": "UPvFrlERRHE4"
      },
      "execution_count": 171,
      "outputs": []
    },
    {
      "cell_type": "code",
      "source": [
        "#Versão dos pacotes usados no jupyter notebook\n",
        "%reload_ext watermark\n",
        "%watermark -a \"Ciência dos Dados #NaPrática\" --iversions"
      ],
      "metadata": {
        "colab": {
          "base_uri": "https://localhost:8080/"
        },
        "id": "u33Cp2LHeANN",
        "outputId": "7f59644c-3705-46ad-f82f-897ca2684288"
      },
      "execution_count": 172,
      "outputs": [
        {
          "output_type": "stream",
          "name": "stdout",
          "text": [
            "Author: Ciência dos Dados #NaPrática\n",
            "\n",
            "seaborn   : 0.11.2\n",
            "pandas    : 1.3.5\n",
            "matplotlib: 3.2.2\n",
            "numpy     : 1.21.6\n",
            "sklearn   : 1.0.2\n",
            "\n"
          ]
        }
      ]
    },
    {
      "cell_type": "markdown",
      "source": [
        "# BAIXANDO BASE DE DADOS"
      ],
      "metadata": {
        "id": "tF3XxKcRe-GU"
      }
    },
    {
      "cell_type": "code",
      "source": [
        "#Montar o Drive criando uma pasta no Google Drive criando a pasta \"Previsão compras\"\n",
        "!mkdir -p \"/content/drive/MyDrive/Colab Notebooks/Previsao_compras\""
      ],
      "metadata": {
        "id": "SQ2J8c0NgfLS"
      },
      "execution_count": 173,
      "outputs": []
    },
    {
      "cell_type": "code",
      "source": [
        "#Salvando dados CSV DIRETAMENTE do site na pasta criada no Google Drive.\n",
        "!wget -P \"/content/drive/MyDrive/Colab Notebooks/Previsao_compras\" https://archive.ics.uci.edu/ml/machine-learning-databases/00468/online_shoppers_intention.csv"
      ],
      "metadata": {
        "colab": {
          "base_uri": "https://localhost:8080/"
        },
        "id": "d9-YU3crjbmc",
        "outputId": "2dae6cd8-079f-4993-8f94-f960e009b17c"
      },
      "execution_count": 174,
      "outputs": [
        {
          "output_type": "stream",
          "name": "stdout",
          "text": [
            "--2022-11-20 19:07:55--  https://archive.ics.uci.edu/ml/machine-learning-databases/00468/online_shoppers_intention.csv\n",
            "Resolving archive.ics.uci.edu (archive.ics.uci.edu)... 128.195.10.252\n",
            "Connecting to archive.ics.uci.edu (archive.ics.uci.edu)|128.195.10.252|:443... connected.\n",
            "HTTP request sent, awaiting response... 200 OK\n",
            "Length: 1072063 (1.0M) [application/x-httpd-php]\n",
            "Saving to: ‘/content/drive/MyDrive/Colab Notebooks/Previsao_compras/online_shoppers_intention.csv.5’\n",
            "\n",
            "online_shoppers_int 100%[===================>]   1.02M  3.07MB/s    in 0.3s    \n",
            "\n",
            "2022-11-20 19:07:55 (3.07 MB/s) - ‘/content/drive/MyDrive/Colab Notebooks/Previsao_compras/online_shoppers_intention.csv.5’ saved [1072063/1072063]\n",
            "\n"
          ]
        }
      ]
    },
    {
      "cell_type": "code",
      "source": [
        "#Criando um dataframe definido como df_original\n",
        "df_original = pd.read_csv(\"/content/drive/MyDrive/Colab Notebooks/Previsao_compras/online_shoppers_intention.csv\") \n",
        "df_original.head()"
      ],
      "metadata": {
        "colab": {
          "base_uri": "https://localhost:8080/",
          "height": 270
        },
        "id": "1dATUU-VkcKt",
        "outputId": "a12d6ed6-523f-4e48-8362-7bd684ce6859"
      },
      "execution_count": 175,
      "outputs": [
        {
          "output_type": "execute_result",
          "data": {
            "text/plain": [
              "   Administrative  Administrative_Duration  Informational  \\\n",
              "0               0                      0.0              0   \n",
              "1               0                      0.0              0   \n",
              "2               0                      0.0              0   \n",
              "3               0                      0.0              0   \n",
              "4               0                      0.0              0   \n",
              "\n",
              "   Informational_Duration  ProductRelated  ProductRelated_Duration  \\\n",
              "0                     0.0               1                 0.000000   \n",
              "1                     0.0               2                64.000000   \n",
              "2                     0.0               1                 0.000000   \n",
              "3                     0.0               2                 2.666667   \n",
              "4                     0.0              10               627.500000   \n",
              "\n",
              "   BounceRates  ExitRates  PageValues  SpecialDay Month  OperatingSystems  \\\n",
              "0         0.20       0.20         0.0         0.0   Feb                 1   \n",
              "1         0.00       0.10         0.0         0.0   Feb                 2   \n",
              "2         0.20       0.20         0.0         0.0   Feb                 4   \n",
              "3         0.05       0.14         0.0         0.0   Feb                 3   \n",
              "4         0.02       0.05         0.0         0.0   Feb                 3   \n",
              "\n",
              "   Browser  Region  TrafficType        VisitorType  Weekend  Revenue  \n",
              "0        1       1            1  Returning_Visitor    False    False  \n",
              "1        2       1            2  Returning_Visitor    False    False  \n",
              "2        1       9            3  Returning_Visitor    False    False  \n",
              "3        2       2            4  Returning_Visitor    False    False  \n",
              "4        3       1            4  Returning_Visitor     True    False  "
            ],
            "text/html": [
              "\n",
              "  <div id=\"df-bcc0febd-9bf2-4c2c-8a32-e15c21dac35e\">\n",
              "    <div class=\"colab-df-container\">\n",
              "      <div>\n",
              "<style scoped>\n",
              "    .dataframe tbody tr th:only-of-type {\n",
              "        vertical-align: middle;\n",
              "    }\n",
              "\n",
              "    .dataframe tbody tr th {\n",
              "        vertical-align: top;\n",
              "    }\n",
              "\n",
              "    .dataframe thead th {\n",
              "        text-align: right;\n",
              "    }\n",
              "</style>\n",
              "<table border=\"1\" class=\"dataframe\">\n",
              "  <thead>\n",
              "    <tr style=\"text-align: right;\">\n",
              "      <th></th>\n",
              "      <th>Administrative</th>\n",
              "      <th>Administrative_Duration</th>\n",
              "      <th>Informational</th>\n",
              "      <th>Informational_Duration</th>\n",
              "      <th>ProductRelated</th>\n",
              "      <th>ProductRelated_Duration</th>\n",
              "      <th>BounceRates</th>\n",
              "      <th>ExitRates</th>\n",
              "      <th>PageValues</th>\n",
              "      <th>SpecialDay</th>\n",
              "      <th>Month</th>\n",
              "      <th>OperatingSystems</th>\n",
              "      <th>Browser</th>\n",
              "      <th>Region</th>\n",
              "      <th>TrafficType</th>\n",
              "      <th>VisitorType</th>\n",
              "      <th>Weekend</th>\n",
              "      <th>Revenue</th>\n",
              "    </tr>\n",
              "  </thead>\n",
              "  <tbody>\n",
              "    <tr>\n",
              "      <th>0</th>\n",
              "      <td>0</td>\n",
              "      <td>0.0</td>\n",
              "      <td>0</td>\n",
              "      <td>0.0</td>\n",
              "      <td>1</td>\n",
              "      <td>0.000000</td>\n",
              "      <td>0.20</td>\n",
              "      <td>0.20</td>\n",
              "      <td>0.0</td>\n",
              "      <td>0.0</td>\n",
              "      <td>Feb</td>\n",
              "      <td>1</td>\n",
              "      <td>1</td>\n",
              "      <td>1</td>\n",
              "      <td>1</td>\n",
              "      <td>Returning_Visitor</td>\n",
              "      <td>False</td>\n",
              "      <td>False</td>\n",
              "    </tr>\n",
              "    <tr>\n",
              "      <th>1</th>\n",
              "      <td>0</td>\n",
              "      <td>0.0</td>\n",
              "      <td>0</td>\n",
              "      <td>0.0</td>\n",
              "      <td>2</td>\n",
              "      <td>64.000000</td>\n",
              "      <td>0.00</td>\n",
              "      <td>0.10</td>\n",
              "      <td>0.0</td>\n",
              "      <td>0.0</td>\n",
              "      <td>Feb</td>\n",
              "      <td>2</td>\n",
              "      <td>2</td>\n",
              "      <td>1</td>\n",
              "      <td>2</td>\n",
              "      <td>Returning_Visitor</td>\n",
              "      <td>False</td>\n",
              "      <td>False</td>\n",
              "    </tr>\n",
              "    <tr>\n",
              "      <th>2</th>\n",
              "      <td>0</td>\n",
              "      <td>0.0</td>\n",
              "      <td>0</td>\n",
              "      <td>0.0</td>\n",
              "      <td>1</td>\n",
              "      <td>0.000000</td>\n",
              "      <td>0.20</td>\n",
              "      <td>0.20</td>\n",
              "      <td>0.0</td>\n",
              "      <td>0.0</td>\n",
              "      <td>Feb</td>\n",
              "      <td>4</td>\n",
              "      <td>1</td>\n",
              "      <td>9</td>\n",
              "      <td>3</td>\n",
              "      <td>Returning_Visitor</td>\n",
              "      <td>False</td>\n",
              "      <td>False</td>\n",
              "    </tr>\n",
              "    <tr>\n",
              "      <th>3</th>\n",
              "      <td>0</td>\n",
              "      <td>0.0</td>\n",
              "      <td>0</td>\n",
              "      <td>0.0</td>\n",
              "      <td>2</td>\n",
              "      <td>2.666667</td>\n",
              "      <td>0.05</td>\n",
              "      <td>0.14</td>\n",
              "      <td>0.0</td>\n",
              "      <td>0.0</td>\n",
              "      <td>Feb</td>\n",
              "      <td>3</td>\n",
              "      <td>2</td>\n",
              "      <td>2</td>\n",
              "      <td>4</td>\n",
              "      <td>Returning_Visitor</td>\n",
              "      <td>False</td>\n",
              "      <td>False</td>\n",
              "    </tr>\n",
              "    <tr>\n",
              "      <th>4</th>\n",
              "      <td>0</td>\n",
              "      <td>0.0</td>\n",
              "      <td>0</td>\n",
              "      <td>0.0</td>\n",
              "      <td>10</td>\n",
              "      <td>627.500000</td>\n",
              "      <td>0.02</td>\n",
              "      <td>0.05</td>\n",
              "      <td>0.0</td>\n",
              "      <td>0.0</td>\n",
              "      <td>Feb</td>\n",
              "      <td>3</td>\n",
              "      <td>3</td>\n",
              "      <td>1</td>\n",
              "      <td>4</td>\n",
              "      <td>Returning_Visitor</td>\n",
              "      <td>True</td>\n",
              "      <td>False</td>\n",
              "    </tr>\n",
              "  </tbody>\n",
              "</table>\n",
              "</div>\n",
              "      <button class=\"colab-df-convert\" onclick=\"convertToInteractive('df-bcc0febd-9bf2-4c2c-8a32-e15c21dac35e')\"\n",
              "              title=\"Convert this dataframe to an interactive table.\"\n",
              "              style=\"display:none;\">\n",
              "        \n",
              "  <svg xmlns=\"http://www.w3.org/2000/svg\" height=\"24px\"viewBox=\"0 0 24 24\"\n",
              "       width=\"24px\">\n",
              "    <path d=\"M0 0h24v24H0V0z\" fill=\"none\"/>\n",
              "    <path d=\"M18.56 5.44l.94 2.06.94-2.06 2.06-.94-2.06-.94-.94-2.06-.94 2.06-2.06.94zm-11 1L8.5 8.5l.94-2.06 2.06-.94-2.06-.94L8.5 2.5l-.94 2.06-2.06.94zm10 10l.94 2.06.94-2.06 2.06-.94-2.06-.94-.94-2.06-.94 2.06-2.06.94z\"/><path d=\"M17.41 7.96l-1.37-1.37c-.4-.4-.92-.59-1.43-.59-.52 0-1.04.2-1.43.59L10.3 9.45l-7.72 7.72c-.78.78-.78 2.05 0 2.83L4 21.41c.39.39.9.59 1.41.59.51 0 1.02-.2 1.41-.59l7.78-7.78 2.81-2.81c.8-.78.8-2.07 0-2.86zM5.41 20L4 18.59l7.72-7.72 1.47 1.35L5.41 20z\"/>\n",
              "  </svg>\n",
              "      </button>\n",
              "      \n",
              "  <style>\n",
              "    .colab-df-container {\n",
              "      display:flex;\n",
              "      flex-wrap:wrap;\n",
              "      gap: 12px;\n",
              "    }\n",
              "\n",
              "    .colab-df-convert {\n",
              "      background-color: #E8F0FE;\n",
              "      border: none;\n",
              "      border-radius: 50%;\n",
              "      cursor: pointer;\n",
              "      display: none;\n",
              "      fill: #1967D2;\n",
              "      height: 32px;\n",
              "      padding: 0 0 0 0;\n",
              "      width: 32px;\n",
              "    }\n",
              "\n",
              "    .colab-df-convert:hover {\n",
              "      background-color: #E2EBFA;\n",
              "      box-shadow: 0px 1px 2px rgba(60, 64, 67, 0.3), 0px 1px 3px 1px rgba(60, 64, 67, 0.15);\n",
              "      fill: #174EA6;\n",
              "    }\n",
              "\n",
              "    [theme=dark] .colab-df-convert {\n",
              "      background-color: #3B4455;\n",
              "      fill: #D2E3FC;\n",
              "    }\n",
              "\n",
              "    [theme=dark] .colab-df-convert:hover {\n",
              "      background-color: #434B5C;\n",
              "      box-shadow: 0px 1px 3px 1px rgba(0, 0, 0, 0.15);\n",
              "      filter: drop-shadow(0px 1px 2px rgba(0, 0, 0, 0.3));\n",
              "      fill: #FFFFFF;\n",
              "    }\n",
              "  </style>\n",
              "\n",
              "      <script>\n",
              "        const buttonEl =\n",
              "          document.querySelector('#df-bcc0febd-9bf2-4c2c-8a32-e15c21dac35e button.colab-df-convert');\n",
              "        buttonEl.style.display =\n",
              "          google.colab.kernel.accessAllowed ? 'block' : 'none';\n",
              "\n",
              "        async function convertToInteractive(key) {\n",
              "          const element = document.querySelector('#df-bcc0febd-9bf2-4c2c-8a32-e15c21dac35e');\n",
              "          const dataTable =\n",
              "            await google.colab.kernel.invokeFunction('convertToInteractive',\n",
              "                                                     [key], {});\n",
              "          if (!dataTable) return;\n",
              "\n",
              "          const docLinkHtml = 'Like what you see? Visit the ' +\n",
              "            '<a target=\"_blank\" href=https://colab.research.google.com/notebooks/data_table.ipynb>data table notebook</a>'\n",
              "            + ' to learn more about interactive tables.';\n",
              "          element.innerHTML = '';\n",
              "          dataTable['output_type'] = 'display_data';\n",
              "          await google.colab.output.renderOutput(dataTable, element);\n",
              "          const docLink = document.createElement('div');\n",
              "          docLink.innerHTML = docLinkHtml;\n",
              "          element.appendChild(docLink);\n",
              "        }\n",
              "      </script>\n",
              "    </div>\n",
              "  </div>\n",
              "  "
            ]
          },
          "metadata": {},
          "execution_count": 175
        }
      ]
    },
    {
      "cell_type": "markdown",
      "source": [
        "# Ajuste base de dados"
      ],
      "metadata": {
        "id": "3MLHwLRfhGgn"
      }
    },
    {
      "cell_type": "code",
      "source": [
        "#Alterando nomes das colunas\n",
        "df.columns = ['Administrativo', 'Duração_Administrativo', 'Informativo',\n",
        "       'Duração_Informativo', 'Relacionada_ao_produto', 'Duração_relacionada_ao_produto',\n",
        "       'Taxas_de_rejeição', 'Taxas_de_saída', 'Valores_da_página', 'Dia_especial', 'Mês',\n",
        "       'Sistemas_operacionais', 'Navegador', 'Região', 'Tipo_de_tráfego', 'Tipo_de_visitante',\n",
        "       'Fim_de_semana', 'Receita']\n",
        "     "
      ],
      "metadata": {
        "id": "8tcyMDVD27m6"
      },
      "execution_count": 201,
      "outputs": []
    },
    {
      "cell_type": "code",
      "source": [
        "df_original = df.rename(columns={'Administrative' : 'Administrativo', 'Administrative_Duration' : 'Duração_Administrativo', 'Informational' : 'Informativo',\n",
        "       'Informational_Duration' : 'Duração_Informativo', 'ProductRelated' : 'Relacionada_ao_produto', 'ProductRelated_Duration' : 'Duração_relacionada_ao_produto',\n",
        "       'BounceRates' : 'Taxas_de_rejeição', 'ExitRates' : 'Taxas_de_saída', 'PageValues' : 'Valores_da_página', 'SpecialDay' : 'Dia_especial', 'Month' : 'Mês',\n",
        "       'OperatingSystems' : 'Sistemas_operacionais', 'Browser' : 'Navegador', 'Region' : 'Região', 'TrafficType' : 'Tipo_de_tráfego', 'VisitorType' : 'Tipo_de_visitante',\n",
        "       'Weekend' : 'Fim_de_semana', 'Revenue' : 'Receita'})"
      ],
      "metadata": {
        "id": "gzu6xkGo7Zu0"
      },
      "execution_count": 203,
      "outputs": []
    },
    {
      "cell_type": "code",
      "source": [
        "#Vendo resultado\n",
        "df_original.head()"
      ],
      "metadata": {
        "colab": {
          "base_uri": "https://localhost:8080/",
          "height": 270
        },
        "id": "psEXHuKE6EHZ",
        "outputId": "8fca4706-1040-49ad-c5d4-427d5d3664d9"
      },
      "execution_count": 204,
      "outputs": [
        {
          "output_type": "execute_result",
          "data": {
            "text/plain": [
              "   Administrativo  Duração_Administrativo  Informativo  Duração_Informativo  \\\n",
              "0               0                1.095511            0             1.095511   \n",
              "1               0                1.095511            0             1.095511   \n",
              "2               0                1.095511            0             1.095511   \n",
              "3               0                1.095511            0             1.095511   \n",
              "4               0                1.095511            0             1.095511   \n",
              "\n",
              "   Relacionada_ao_produto  Duração_relacionada_ao_produto  Taxas_de_rejeição  \\\n",
              "0                1.141338                        1.095511           1.107073   \n",
              "1                1.169299                        1.341004           1.095511   \n",
              "2                1.141338                        1.095511           1.107073   \n",
              "3                1.169299                        1.183031           1.098558   \n",
              "4                1.252968                        1.419140           1.096743   \n",
              "\n",
              "   Taxas_de_saída  Valores_da_página  Dia_especial  Mês  \\\n",
              "0        1.107073           1.095511           0.0  Feb   \n",
              "1        1.101496           1.095511           0.0  Feb   \n",
              "2        1.107073           1.095511           0.0  Feb   \n",
              "3        1.103773           1.095511           0.0  Feb   \n",
              "4        1.098558           1.095511           0.0  Feb   \n",
              "\n",
              "   Sistemas_operacionais  Navegador  Região  Tipo_de_tráfego  \\\n",
              "0                      1          1       1                1   \n",
              "1                      2          2       1                2   \n",
              "2                      4          1       9                3   \n",
              "3                      3          2       2                4   \n",
              "4                      3          3       1                4   \n",
              "\n",
              "   Tipo_de_visitante  Fim_de_semana  Receita  \n",
              "0  Returning_Visitor          False    False  \n",
              "1  Returning_Visitor          False    False  \n",
              "2  Returning_Visitor          False    False  \n",
              "3  Returning_Visitor          False    False  \n",
              "4  Returning_Visitor           True    False  "
            ],
            "text/html": [
              "\n",
              "  <div id=\"df-a97e6269-2f32-458b-acb7-cc8add45277c\">\n",
              "    <div class=\"colab-df-container\">\n",
              "      <div>\n",
              "<style scoped>\n",
              "    .dataframe tbody tr th:only-of-type {\n",
              "        vertical-align: middle;\n",
              "    }\n",
              "\n",
              "    .dataframe tbody tr th {\n",
              "        vertical-align: top;\n",
              "    }\n",
              "\n",
              "    .dataframe thead th {\n",
              "        text-align: right;\n",
              "    }\n",
              "</style>\n",
              "<table border=\"1\" class=\"dataframe\">\n",
              "  <thead>\n",
              "    <tr style=\"text-align: right;\">\n",
              "      <th></th>\n",
              "      <th>Administrativo</th>\n",
              "      <th>Duração_Administrativo</th>\n",
              "      <th>Informativo</th>\n",
              "      <th>Duração_Informativo</th>\n",
              "      <th>Relacionada_ao_produto</th>\n",
              "      <th>Duração_relacionada_ao_produto</th>\n",
              "      <th>Taxas_de_rejeição</th>\n",
              "      <th>Taxas_de_saída</th>\n",
              "      <th>Valores_da_página</th>\n",
              "      <th>Dia_especial</th>\n",
              "      <th>Mês</th>\n",
              "      <th>Sistemas_operacionais</th>\n",
              "      <th>Navegador</th>\n",
              "      <th>Região</th>\n",
              "      <th>Tipo_de_tráfego</th>\n",
              "      <th>Tipo_de_visitante</th>\n",
              "      <th>Fim_de_semana</th>\n",
              "      <th>Receita</th>\n",
              "    </tr>\n",
              "  </thead>\n",
              "  <tbody>\n",
              "    <tr>\n",
              "      <th>0</th>\n",
              "      <td>0</td>\n",
              "      <td>1.095511</td>\n",
              "      <td>0</td>\n",
              "      <td>1.095511</td>\n",
              "      <td>1.141338</td>\n",
              "      <td>1.095511</td>\n",
              "      <td>1.107073</td>\n",
              "      <td>1.107073</td>\n",
              "      <td>1.095511</td>\n",
              "      <td>0.0</td>\n",
              "      <td>Feb</td>\n",
              "      <td>1</td>\n",
              "      <td>1</td>\n",
              "      <td>1</td>\n",
              "      <td>1</td>\n",
              "      <td>Returning_Visitor</td>\n",
              "      <td>False</td>\n",
              "      <td>False</td>\n",
              "    </tr>\n",
              "    <tr>\n",
              "      <th>1</th>\n",
              "      <td>0</td>\n",
              "      <td>1.095511</td>\n",
              "      <td>0</td>\n",
              "      <td>1.095511</td>\n",
              "      <td>1.169299</td>\n",
              "      <td>1.341004</td>\n",
              "      <td>1.095511</td>\n",
              "      <td>1.101496</td>\n",
              "      <td>1.095511</td>\n",
              "      <td>0.0</td>\n",
              "      <td>Feb</td>\n",
              "      <td>2</td>\n",
              "      <td>2</td>\n",
              "      <td>1</td>\n",
              "      <td>2</td>\n",
              "      <td>Returning_Visitor</td>\n",
              "      <td>False</td>\n",
              "      <td>False</td>\n",
              "    </tr>\n",
              "    <tr>\n",
              "      <th>2</th>\n",
              "      <td>0</td>\n",
              "      <td>1.095511</td>\n",
              "      <td>0</td>\n",
              "      <td>1.095511</td>\n",
              "      <td>1.141338</td>\n",
              "      <td>1.095511</td>\n",
              "      <td>1.107073</td>\n",
              "      <td>1.107073</td>\n",
              "      <td>1.095511</td>\n",
              "      <td>0.0</td>\n",
              "      <td>Feb</td>\n",
              "      <td>4</td>\n",
              "      <td>1</td>\n",
              "      <td>9</td>\n",
              "      <td>3</td>\n",
              "      <td>Returning_Visitor</td>\n",
              "      <td>False</td>\n",
              "      <td>False</td>\n",
              "    </tr>\n",
              "    <tr>\n",
              "      <th>3</th>\n",
              "      <td>0</td>\n",
              "      <td>1.095511</td>\n",
              "      <td>0</td>\n",
              "      <td>1.095511</td>\n",
              "      <td>1.169299</td>\n",
              "      <td>1.183031</td>\n",
              "      <td>1.098558</td>\n",
              "      <td>1.103773</td>\n",
              "      <td>1.095511</td>\n",
              "      <td>0.0</td>\n",
              "      <td>Feb</td>\n",
              "      <td>3</td>\n",
              "      <td>2</td>\n",
              "      <td>2</td>\n",
              "      <td>4</td>\n",
              "      <td>Returning_Visitor</td>\n",
              "      <td>False</td>\n",
              "      <td>False</td>\n",
              "    </tr>\n",
              "    <tr>\n",
              "      <th>4</th>\n",
              "      <td>0</td>\n",
              "      <td>1.095511</td>\n",
              "      <td>0</td>\n",
              "      <td>1.095511</td>\n",
              "      <td>1.252968</td>\n",
              "      <td>1.419140</td>\n",
              "      <td>1.096743</td>\n",
              "      <td>1.098558</td>\n",
              "      <td>1.095511</td>\n",
              "      <td>0.0</td>\n",
              "      <td>Feb</td>\n",
              "      <td>3</td>\n",
              "      <td>3</td>\n",
              "      <td>1</td>\n",
              "      <td>4</td>\n",
              "      <td>Returning_Visitor</td>\n",
              "      <td>True</td>\n",
              "      <td>False</td>\n",
              "    </tr>\n",
              "  </tbody>\n",
              "</table>\n",
              "</div>\n",
              "      <button class=\"colab-df-convert\" onclick=\"convertToInteractive('df-a97e6269-2f32-458b-acb7-cc8add45277c')\"\n",
              "              title=\"Convert this dataframe to an interactive table.\"\n",
              "              style=\"display:none;\">\n",
              "        \n",
              "  <svg xmlns=\"http://www.w3.org/2000/svg\" height=\"24px\"viewBox=\"0 0 24 24\"\n",
              "       width=\"24px\">\n",
              "    <path d=\"M0 0h24v24H0V0z\" fill=\"none\"/>\n",
              "    <path d=\"M18.56 5.44l.94 2.06.94-2.06 2.06-.94-2.06-.94-.94-2.06-.94 2.06-2.06.94zm-11 1L8.5 8.5l.94-2.06 2.06-.94-2.06-.94L8.5 2.5l-.94 2.06-2.06.94zm10 10l.94 2.06.94-2.06 2.06-.94-2.06-.94-.94-2.06-.94 2.06-2.06.94z\"/><path d=\"M17.41 7.96l-1.37-1.37c-.4-.4-.92-.59-1.43-.59-.52 0-1.04.2-1.43.59L10.3 9.45l-7.72 7.72c-.78.78-.78 2.05 0 2.83L4 21.41c.39.39.9.59 1.41.59.51 0 1.02-.2 1.41-.59l7.78-7.78 2.81-2.81c.8-.78.8-2.07 0-2.86zM5.41 20L4 18.59l7.72-7.72 1.47 1.35L5.41 20z\"/>\n",
              "  </svg>\n",
              "      </button>\n",
              "      \n",
              "  <style>\n",
              "    .colab-df-container {\n",
              "      display:flex;\n",
              "      flex-wrap:wrap;\n",
              "      gap: 12px;\n",
              "    }\n",
              "\n",
              "    .colab-df-convert {\n",
              "      background-color: #E8F0FE;\n",
              "      border: none;\n",
              "      border-radius: 50%;\n",
              "      cursor: pointer;\n",
              "      display: none;\n",
              "      fill: #1967D2;\n",
              "      height: 32px;\n",
              "      padding: 0 0 0 0;\n",
              "      width: 32px;\n",
              "    }\n",
              "\n",
              "    .colab-df-convert:hover {\n",
              "      background-color: #E2EBFA;\n",
              "      box-shadow: 0px 1px 2px rgba(60, 64, 67, 0.3), 0px 1px 3px 1px rgba(60, 64, 67, 0.15);\n",
              "      fill: #174EA6;\n",
              "    }\n",
              "\n",
              "    [theme=dark] .colab-df-convert {\n",
              "      background-color: #3B4455;\n",
              "      fill: #D2E3FC;\n",
              "    }\n",
              "\n",
              "    [theme=dark] .colab-df-convert:hover {\n",
              "      background-color: #434B5C;\n",
              "      box-shadow: 0px 1px 3px 1px rgba(0, 0, 0, 0.15);\n",
              "      filter: drop-shadow(0px 1px 2px rgba(0, 0, 0, 0.3));\n",
              "      fill: #FFFFFF;\n",
              "    }\n",
              "  </style>\n",
              "\n",
              "      <script>\n",
              "        const buttonEl =\n",
              "          document.querySelector('#df-a97e6269-2f32-458b-acb7-cc8add45277c button.colab-df-convert');\n",
              "        buttonEl.style.display =\n",
              "          google.colab.kernel.accessAllowed ? 'block' : 'none';\n",
              "\n",
              "        async function convertToInteractive(key) {\n",
              "          const element = document.querySelector('#df-a97e6269-2f32-458b-acb7-cc8add45277c');\n",
              "          const dataTable =\n",
              "            await google.colab.kernel.invokeFunction('convertToInteractive',\n",
              "                                                     [key], {});\n",
              "          if (!dataTable) return;\n",
              "\n",
              "          const docLinkHtml = 'Like what you see? Visit the ' +\n",
              "            '<a target=\"_blank\" href=https://colab.research.google.com/notebooks/data_table.ipynb>data table notebook</a>'\n",
              "            + ' to learn more about interactive tables.';\n",
              "          element.innerHTML = '';\n",
              "          dataTable['output_type'] = 'display_data';\n",
              "          await google.colab.output.renderOutput(dataTable, element);\n",
              "          const docLink = document.createElement('div');\n",
              "          docLink.innerHTML = docLinkHtml;\n",
              "          element.appendChild(docLink);\n",
              "        }\n",
              "      </script>\n",
              "    </div>\n",
              "  </div>\n",
              "  "
            ]
          },
          "metadata": {},
          "execution_count": 204
        }
      ]
    },
    {
      "cell_type": "markdown",
      "source": [
        "# CONHECENDO MAIS DETALHES SOBRE A BASE DE DADOS"
      ],
      "metadata": {
        "id": "C43oURv6qY6w"
      }
    },
    {
      "cell_type": "markdown",
      "source": [
        "**Informações do conjunto de dados:**\n",
        "\n",
        "O conjunto de dados consiste em vetores de recursos pertencentes a 12.330 sessões.\n",
        "O conjunto de dados foi formado para que cada sessão\n",
        "pertenceria a um usuário diferente em um período de 1 ano para evitar\n",
        "qualquer tendência a uma campanha específica, dia especial, usuário\n",
        "perfil ou período.\n",
        "\n",
        "\n",
        "**Informações do atributo:**\n",
        "\n",
        "O conjunto de dados consiste em 10 atributos numéricos e 8 categóricos.\n",
        "O atributo 'Revenue' pode ser usado como o rótulo da classe.\n",
        "\n",
        "\"Administrativo\", \"Duração Administrativa\", \"Informativo\", \"Duração Informativa\", \"Relacionado ao Produto\" e \"Duração Relacionado ao Produto\" representam o número de diferentes tipos de páginas visitadas pelo visitante naquela sessão e o tempo total gasto em cada uma delas essas categorias de página. Os valores desses recursos são derivados das informações de URL das páginas visitadas pelo usuário e atualizadas em tempo real quando um usuário realiza uma ação, por exemplo, passando de uma página para outra. Os recursos \"Taxa de rejeição\", \"Taxa de saída\" e \"Valor da página\" representam as métricas medidas pelo \"Google Analytics\" para cada página do site de comércio eletrônico. O valor do recurso \"Taxa de rejeição\" para uma página da Web refere-se à porcentagem de visitantes que entram no site a partir dessa página e depois saem (\"bounce\") sem acionar nenhuma outra solicitação ao servidor analítico durante essa sessão. O valor do recurso \"Taxa de saída\" para uma página da Web específica é calculado como para todas as exibições de página da página, a porcentagem que foi a última na sessão. O recurso \"Valor da página\" representa o valor médio de uma página da Web que um usuário visitou antes de concluir uma transação de comércio eletrônico. O recurso \"Dia Especial\" indica a proximidade do horário de visita do site a um dia especial específico (por exemplo, Dia das Mães, Dia dos Namorados) em que as sessões têm maior probabilidade de serem finalizadas com transação. O valor desse atributo é determinado considerando a dinâmica do e-commerce como o tempo entre a data do pedido e a data de entrega. Por exemplo, para o dia de Valentina, esse valor assume um valor diferente de zero entre 2 de fevereiro e 12 de fevereiro, zero antes e depois dessa data, a menos que seja próximo a outro dia especial, e seu valor máximo de 1 em 8 de fevereiro. sistema, navegador, região, tipo de tráfego, tipo de visitante como visitante recorrente ou novo, um valor booleano indicando se a data da visita é final de semana e mês do ano"
      ],
      "metadata": {
        "id": "viBvD2Fgnc63"
      }
    },
    {
      "cell_type": "code",
      "source": [
        "#Verificar tamanho do dataset\n",
        "df_original.shape"
      ],
      "metadata": {
        "colab": {
          "base_uri": "https://localhost:8080/"
        },
        "id": "lBzjktB3oGvT",
        "outputId": "01245028-44bf-4402-e0a3-03a622c337fb"
      },
      "execution_count": 179,
      "outputs": [
        {
          "output_type": "execute_result",
          "data": {
            "text/plain": [
              "(12330, 18)"
            ]
          },
          "metadata": {},
          "execution_count": 179
        }
      ]
    },
    {
      "cell_type": "code",
      "source": [
        "#Tipo de dados\n",
        "df_original.dtypes"
      ],
      "metadata": {
        "colab": {
          "base_uri": "https://localhost:8080/"
        },
        "id": "Aj7yf1A8oP0A",
        "outputId": "d032873c-ff87-4fb1-ee81-fbf1f53218bc"
      },
      "execution_count": 180,
      "outputs": [
        {
          "output_type": "execute_result",
          "data": {
            "text/plain": [
              "Administrativo                      int64\n",
              "Duração_Administrativo            float64\n",
              "Informativo                         int64\n",
              "Duração_Informativo               float64\n",
              "Relacionada_ao_produto            float64\n",
              "Duração_relacionada_ao_produto    float64\n",
              "Taxas_de_rejeição                 float64\n",
              "Taxas_de_saída                    float64\n",
              "Valores_da_página                 float64\n",
              "Dia_especial                      float64\n",
              "Mês                                object\n",
              "Sistemas_operacionais               int64\n",
              "Navegador                           int64\n",
              "Região                              int64\n",
              "Tipo_de_tráfeco                     int64\n",
              "Tipo_de_visitante                  object\n",
              "Fim_de_semana                        bool\n",
              "Receita                              bool\n",
              "dtype: object"
            ]
          },
          "metadata": {},
          "execution_count": 180
        }
      ]
    },
    {
      "cell_type": "code",
      "source": [
        "#Verificando valores nulos\n",
        "print(df_original.isna().sum())"
      ],
      "metadata": {
        "colab": {
          "base_uri": "https://localhost:8080/"
        },
        "id": "Rq1QBni2oP2f",
        "outputId": "3c892b02-df75-432f-ff40-d8d4dceeec78"
      },
      "execution_count": 181,
      "outputs": [
        {
          "output_type": "stream",
          "name": "stdout",
          "text": [
            "Administrativo                    0\n",
            "Duração_Administrativo            0\n",
            "Informativo                       0\n",
            "Duração_Informativo               0\n",
            "Relacionada_ao_produto            0\n",
            "Duração_relacionada_ao_produto    0\n",
            "Taxas_de_rejeição                 0\n",
            "Taxas_de_saída                    0\n",
            "Valores_da_página                 0\n",
            "Dia_especial                      0\n",
            "Mês                               0\n",
            "Sistemas_operacionais             0\n",
            "Navegador                         0\n",
            "Região                            0\n",
            "Tipo_de_tráfeco                   0\n",
            "Tipo_de_visitante                 0\n",
            "Fim_de_semana                     0\n",
            "Receita                           0\n",
            "dtype: int64\n"
          ]
        }
      ]
    },
    {
      "cell_type": "code",
      "source": [
        "#Esse dataset não possui valores nulos, porém se houvesse para retirar uso: df_original.dropna(inplace = True)\n"
      ],
      "metadata": {
        "id": "F1IaxRpvo86O"
      },
      "execution_count": 182,
      "outputs": []
    },
    {
      "cell_type": "code",
      "source": [
        "#Colunas possuem valores únicos?\n",
        "df_original.nunique()"
      ],
      "metadata": {
        "colab": {
          "base_uri": "https://localhost:8080/"
        },
        "id": "MBzYvcQ0oP6F",
        "outputId": "444ea7e9-f891-4bd7-ac86-547ed42b9c07"
      },
      "execution_count": 183,
      "outputs": [
        {
          "output_type": "execute_result",
          "data": {
            "text/plain": [
              "Administrativo                      27\n",
              "Duração_Administrativo            3335\n",
              "Informativo                         17\n",
              "Duração_Informativo               1258\n",
              "Relacionada_ao_produto             311\n",
              "Duração_relacionada_ao_produto    9551\n",
              "Taxas_de_rejeição                 1872\n",
              "Taxas_de_saída                    4777\n",
              "Valores_da_página                 2704\n",
              "Dia_especial                         6\n",
              "Mês                                 10\n",
              "Sistemas_operacionais                8\n",
              "Navegador                           13\n",
              "Região                               9\n",
              "Tipo_de_tráfeco                     20\n",
              "Tipo_de_visitante                    3\n",
              "Fim_de_semana                        2\n",
              "Receita                              2\n",
              "dtype: int64"
            ]
          },
          "metadata": {},
          "execution_count": 183
        }
      ]
    },
    {
      "cell_type": "code",
      "source": [
        "#Preparando os dados\n",
        "\n",
        "#Criando uma cópia da minha base de dados\n",
        "df = df_original.copy()\n",
        "\n",
        "#Listas vazias para os resultados\n",
        "continuous = []\n",
        "categorical = []\n",
        "\n",
        "#loop pelas colunas (vamos desconsiderar a última coluna pois é target. O comando abaixo classifica as colunas com menos de 30 diferentes tipos de dados em dados\n",
        "#contínuos e acima de 30 diferentes tipos de dados em variável categorica )\n",
        "\n",
        "for c in df.columns[:-1]:\n",
        "  if df.nunique ()[c] >= 30:\n",
        "      continuous.append(c)\n",
        "  else:\n",
        "    categorical.append(c)"
      ],
      "metadata": {
        "id": "gJhYi66Oqj7m"
      },
      "execution_count": 184,
      "outputs": []
    },
    {
      "cell_type": "code",
      "source": [
        "#Verificando as variáveis contínuas\n",
        "continuous"
      ],
      "metadata": {
        "colab": {
          "base_uri": "https://localhost:8080/"
        },
        "id": "20kM6lHXqj4R",
        "outputId": "8a963df3-ce85-42ca-b573-ec6d4c79aa6b"
      },
      "execution_count": 185,
      "outputs": [
        {
          "output_type": "execute_result",
          "data": {
            "text/plain": [
              "['Duração_Administrativo',\n",
              " 'Duração_Informativo',\n",
              " 'Relacionada_ao_produto',\n",
              " 'Duração_relacionada_ao_produto',\n",
              " 'Taxas_de_rejeição',\n",
              " 'Taxas_de_saída',\n",
              " 'Valores_da_página']"
            ]
          },
          "metadata": {},
          "execution_count": 185
        }
      ]
    },
    {
      "cell_type": "code",
      "source": [
        "categorical"
      ],
      "metadata": {
        "colab": {
          "base_uri": "https://localhost:8080/"
        },
        "id": "L0PzHDEA7JdD",
        "outputId": "f7f93624-dcb2-46ed-9958-a7983936c504"
      },
      "execution_count": 186,
      "outputs": [
        {
          "output_type": "execute_result",
          "data": {
            "text/plain": [
              "['Administrativo',\n",
              " 'Informativo',\n",
              " 'Dia_especial',\n",
              " 'Mês',\n",
              " 'Sistemas_operacionais',\n",
              " 'Navegador',\n",
              " 'Região',\n",
              " 'Tipo_de_tráfeco',\n",
              " 'Tipo_de_visitante',\n",
              " 'Fim_de_semana']"
            ]
          },
          "metadata": {},
          "execution_count": 186
        }
      ]
    },
    {
      "cell_type": "code",
      "source": [
        "#Verificando as varíaveis categóricas\n",
        "\n",
        "df[categorical].head()"
      ],
      "metadata": {
        "colab": {
          "base_uri": "https://localhost:8080/",
          "height": 206
        },
        "id": "LzDZLHwG6r2e",
        "outputId": "b91a4031-4bba-42bf-da80-e1c84d3ca520"
      },
      "execution_count": 187,
      "outputs": [
        {
          "output_type": "execute_result",
          "data": {
            "text/plain": [
              "   Administrativo  Informativo  Dia_especial  Mês  Sistemas_operacionais  \\\n",
              "0               0            0           0.0  Feb                      1   \n",
              "1               0            0           0.0  Feb                      2   \n",
              "2               0            0           0.0  Feb                      4   \n",
              "3               0            0           0.0  Feb                      3   \n",
              "4               0            0           0.0  Feb                      3   \n",
              "\n",
              "   Navegador  Região  Tipo_de_tráfeco  Tipo_de_visitante  Fim_de_semana  \n",
              "0          1       1                1  Returning_Visitor          False  \n",
              "1          2       1                2  Returning_Visitor          False  \n",
              "2          1       9                3  Returning_Visitor          False  \n",
              "3          2       2                4  Returning_Visitor          False  \n",
              "4          3       1                4  Returning_Visitor           True  "
            ],
            "text/html": [
              "\n",
              "  <div id=\"df-edde3966-f757-4aff-8136-7a1ae5c29225\">\n",
              "    <div class=\"colab-df-container\">\n",
              "      <div>\n",
              "<style scoped>\n",
              "    .dataframe tbody tr th:only-of-type {\n",
              "        vertical-align: middle;\n",
              "    }\n",
              "\n",
              "    .dataframe tbody tr th {\n",
              "        vertical-align: top;\n",
              "    }\n",
              "\n",
              "    .dataframe thead th {\n",
              "        text-align: right;\n",
              "    }\n",
              "</style>\n",
              "<table border=\"1\" class=\"dataframe\">\n",
              "  <thead>\n",
              "    <tr style=\"text-align: right;\">\n",
              "      <th></th>\n",
              "      <th>Administrativo</th>\n",
              "      <th>Informativo</th>\n",
              "      <th>Dia_especial</th>\n",
              "      <th>Mês</th>\n",
              "      <th>Sistemas_operacionais</th>\n",
              "      <th>Navegador</th>\n",
              "      <th>Região</th>\n",
              "      <th>Tipo_de_tráfeco</th>\n",
              "      <th>Tipo_de_visitante</th>\n",
              "      <th>Fim_de_semana</th>\n",
              "    </tr>\n",
              "  </thead>\n",
              "  <tbody>\n",
              "    <tr>\n",
              "      <th>0</th>\n",
              "      <td>0</td>\n",
              "      <td>0</td>\n",
              "      <td>0.0</td>\n",
              "      <td>Feb</td>\n",
              "      <td>1</td>\n",
              "      <td>1</td>\n",
              "      <td>1</td>\n",
              "      <td>1</td>\n",
              "      <td>Returning_Visitor</td>\n",
              "      <td>False</td>\n",
              "    </tr>\n",
              "    <tr>\n",
              "      <th>1</th>\n",
              "      <td>0</td>\n",
              "      <td>0</td>\n",
              "      <td>0.0</td>\n",
              "      <td>Feb</td>\n",
              "      <td>2</td>\n",
              "      <td>2</td>\n",
              "      <td>1</td>\n",
              "      <td>2</td>\n",
              "      <td>Returning_Visitor</td>\n",
              "      <td>False</td>\n",
              "    </tr>\n",
              "    <tr>\n",
              "      <th>2</th>\n",
              "      <td>0</td>\n",
              "      <td>0</td>\n",
              "      <td>0.0</td>\n",
              "      <td>Feb</td>\n",
              "      <td>4</td>\n",
              "      <td>1</td>\n",
              "      <td>9</td>\n",
              "      <td>3</td>\n",
              "      <td>Returning_Visitor</td>\n",
              "      <td>False</td>\n",
              "    </tr>\n",
              "    <tr>\n",
              "      <th>3</th>\n",
              "      <td>0</td>\n",
              "      <td>0</td>\n",
              "      <td>0.0</td>\n",
              "      <td>Feb</td>\n",
              "      <td>3</td>\n",
              "      <td>2</td>\n",
              "      <td>2</td>\n",
              "      <td>4</td>\n",
              "      <td>Returning_Visitor</td>\n",
              "      <td>False</td>\n",
              "    </tr>\n",
              "    <tr>\n",
              "      <th>4</th>\n",
              "      <td>0</td>\n",
              "      <td>0</td>\n",
              "      <td>0.0</td>\n",
              "      <td>Feb</td>\n",
              "      <td>3</td>\n",
              "      <td>3</td>\n",
              "      <td>1</td>\n",
              "      <td>4</td>\n",
              "      <td>Returning_Visitor</td>\n",
              "      <td>True</td>\n",
              "    </tr>\n",
              "  </tbody>\n",
              "</table>\n",
              "</div>\n",
              "      <button class=\"colab-df-convert\" onclick=\"convertToInteractive('df-edde3966-f757-4aff-8136-7a1ae5c29225')\"\n",
              "              title=\"Convert this dataframe to an interactive table.\"\n",
              "              style=\"display:none;\">\n",
              "        \n",
              "  <svg xmlns=\"http://www.w3.org/2000/svg\" height=\"24px\"viewBox=\"0 0 24 24\"\n",
              "       width=\"24px\">\n",
              "    <path d=\"M0 0h24v24H0V0z\" fill=\"none\"/>\n",
              "    <path d=\"M18.56 5.44l.94 2.06.94-2.06 2.06-.94-2.06-.94-.94-2.06-.94 2.06-2.06.94zm-11 1L8.5 8.5l.94-2.06 2.06-.94-2.06-.94L8.5 2.5l-.94 2.06-2.06.94zm10 10l.94 2.06.94-2.06 2.06-.94-2.06-.94-.94-2.06-.94 2.06-2.06.94z\"/><path d=\"M17.41 7.96l-1.37-1.37c-.4-.4-.92-.59-1.43-.59-.52 0-1.04.2-1.43.59L10.3 9.45l-7.72 7.72c-.78.78-.78 2.05 0 2.83L4 21.41c.39.39.9.59 1.41.59.51 0 1.02-.2 1.41-.59l7.78-7.78 2.81-2.81c.8-.78.8-2.07 0-2.86zM5.41 20L4 18.59l7.72-7.72 1.47 1.35L5.41 20z\"/>\n",
              "  </svg>\n",
              "      </button>\n",
              "      \n",
              "  <style>\n",
              "    .colab-df-container {\n",
              "      display:flex;\n",
              "      flex-wrap:wrap;\n",
              "      gap: 12px;\n",
              "    }\n",
              "\n",
              "    .colab-df-convert {\n",
              "      background-color: #E8F0FE;\n",
              "      border: none;\n",
              "      border-radius: 50%;\n",
              "      cursor: pointer;\n",
              "      display: none;\n",
              "      fill: #1967D2;\n",
              "      height: 32px;\n",
              "      padding: 0 0 0 0;\n",
              "      width: 32px;\n",
              "    }\n",
              "\n",
              "    .colab-df-convert:hover {\n",
              "      background-color: #E2EBFA;\n",
              "      box-shadow: 0px 1px 2px rgba(60, 64, 67, 0.3), 0px 1px 3px 1px rgba(60, 64, 67, 0.15);\n",
              "      fill: #174EA6;\n",
              "    }\n",
              "\n",
              "    [theme=dark] .colab-df-convert {\n",
              "      background-color: #3B4455;\n",
              "      fill: #D2E3FC;\n",
              "    }\n",
              "\n",
              "    [theme=dark] .colab-df-convert:hover {\n",
              "      background-color: #434B5C;\n",
              "      box-shadow: 0px 1px 3px 1px rgba(0, 0, 0, 0.15);\n",
              "      filter: drop-shadow(0px 1px 2px rgba(0, 0, 0, 0.3));\n",
              "      fill: #FFFFFF;\n",
              "    }\n",
              "  </style>\n",
              "\n",
              "      <script>\n",
              "        const buttonEl =\n",
              "          document.querySelector('#df-edde3966-f757-4aff-8136-7a1ae5c29225 button.colab-df-convert');\n",
              "        buttonEl.style.display =\n",
              "          google.colab.kernel.accessAllowed ? 'block' : 'none';\n",
              "\n",
              "        async function convertToInteractive(key) {\n",
              "          const element = document.querySelector('#df-edde3966-f757-4aff-8136-7a1ae5c29225');\n",
              "          const dataTable =\n",
              "            await google.colab.kernel.invokeFunction('convertToInteractive',\n",
              "                                                     [key], {});\n",
              "          if (!dataTable) return;\n",
              "\n",
              "          const docLinkHtml = 'Like what you see? Visit the ' +\n",
              "            '<a target=\"_blank\" href=https://colab.research.google.com/notebooks/data_table.ipynb>data table notebook</a>'\n",
              "            + ' to learn more about interactive tables.';\n",
              "          element.innerHTML = '';\n",
              "          dataTable['output_type'] = 'display_data';\n",
              "          await google.colab.output.renderOutput(dataTable, element);\n",
              "          const docLink = document.createElement('div');\n",
              "          docLink.innerHTML = docLinkHtml;\n",
              "          element.appendChild(docLink);\n",
              "        }\n",
              "      </script>\n",
              "    </div>\n",
              "  </div>\n",
              "  "
            ]
          },
          "metadata": {},
          "execution_count": 187
        }
      ]
    },
    {
      "cell_type": "markdown",
      "source": [
        "# Visualização gráfica dos dados\n",
        "\n",
        "Nessa etapa começamos a buscar insigts para entender o que pode ser trabalhado, se já existe um problema apresentado pelos stakehouders vamos entender quais variavéis representam algum impacto ou estão associadas ao problema a ser resolvido."
      ],
      "metadata": {
        "id": "JE0vbFTH7dS1"
      }
    },
    {
      "cell_type": "code",
      "source": [
        "#Variável contínua (Imediatamente percebo muitos outliers, precisa de tratamento)\n",
        "\n",
        "#Tamanho da área de plotagem\n",
        "fig = plt.figure(figsize = (12,8))\n",
        "\n",
        "#Loop pelas variáveis contínuas\n",
        "for i, col in enumerate(continuous):\n",
        "  plt.subplot(3, 3, i + 1);\n",
        "  df.boxplot(col);\n",
        "  plt.tight_layout()\n",
        "\n",
        "plt.savefig('boxplot1.png')"
      ],
      "metadata": {
        "colab": {
          "base_uri": "https://localhost:8080/",
          "height": 585
        },
        "id": "_x-fbvdU7l9C",
        "outputId": "cef0025d-9f71-4c88-b3d4-a19221c72c63"
      },
      "execution_count": 188,
      "outputs": [
        {
          "output_type": "display_data",
          "data": {
            "text/plain": [
              "<Figure size 864x576 with 7 Axes>"
            ],
            "image/png": "[encoded data removed]"
          },
          "metadata": {
            "needs_background": "light"
          }
        }
      ]
    },
    {
      "cell_type": "code",
      "source": [
        "# Transformação de log nas variáveis contínuas\n",
        "# Utilizamos transformações para podermos comparar dados com grandezas diferentes e também conseguir uma relação entre os dados de maneira mais justa. \n",
        "# Em caso de dúvidas ver explicação completa em : http://rstudio-pubs-static.s3.amazonaws.com/289147_99e32d5403f942339c3fe05414ac62fd.html\n",
        "\n",
        "df[continuous] = np.log1p(1 + df[continuous])"
      ],
      "metadata": {
        "id": "-pp9zaZA9mDh"
      },
      "execution_count": 189,
      "outputs": []
    },
    {
      "cell_type": "code",
      "source": [
        "#Plot das variáveis contínuas \n",
        "# Após a transformação logaritima houve uma redução de outliers.\n",
        "\n",
        "#Tamanho da área de plotagem\n",
        "fig = plt.figure(figsize = (12,8))\n",
        "\n",
        "#Loop pelas variáveis contínuas\n",
        "for i, col in enumerate(continuous):\n",
        "  plt.subplot(3, 3, i + 1);\n",
        "  df.boxplot(col);\n",
        "  plt.tight_layout()\n",
        "\n",
        "plt.savefig('boxplot2.png')\n"
      ],
      "metadata": {
        "colab": {
          "base_uri": "https://localhost:8080/",
          "height": 585
        },
        "id": "MV7RljEcpLyP",
        "outputId": "e620dbb6-be02-4f51-f387-10570bd21331"
      },
      "execution_count": 190,
      "outputs": [
        {
          "output_type": "display_data",
          "data": {
            "text/plain": [
              "<Figure size 864x576 with 7 Axes>"
            ],
            "image/png": "[encoded data removed]"
          },
          "metadata": {
            "needs_background": "light"
          }
        }
      ]
    },
    {
      "cell_type": "markdown",
      "source": [
        "Matriz de Correlação Entre Variáveis Contínuas.\n",
        "\n",
        "\n",
        "Aqui identifico se existe alguma relação entre as variáveis contínuas, ou aquelas mais próximas. Exemplo:\"Valores_da_pagina\" e \"Receita\" estão com uma cor mais clara, portanto entendemos que possuem alguma relação positiva. Na lateral direita da matriz temos a barra relacionando a cor a uma correlação positiva ou negativa. Quanto mais escuro for o quadro mais negativa é a relação, ou seja a relação é inversa. Exemplo: quanto maior for a \"taxa_de_rejeição\" menor será a \"Receita\"."
      ],
      "metadata": {
        "id": "nJchVCJHw6F8"
      }
    },
    {
      "cell_type": "code",
      "source": [
        "# Área de plotagem\n",
        "plt.figure(figsize = (10,10))\n",
        "\n",
        "# Matriz de Correlação\n",
        "sns.heatmap(df[['Duração_Administrativo',\n",
        "                'Duração_Informativo',\n",
        "                'Duração_relacionada_ao_produto',\n",
        "                'Taxas_de_rejeição',\n",
        "                'Taxas_de_saída',\n",
        "                'Valores_da_página',\n",
        "                'Receita']].corr(), vmax = 1., square = True)\n"
      ],
      "metadata": {
        "colab": {
          "base_uri": "https://localhost:8080/",
          "height": 720
        },
        "id": "wxBXTBmNwuLY",
        "outputId": "22ead327-75f9-433b-f7f0-f82940c6d6cf"
      },
      "execution_count": 191,
      "outputs": [
        {
          "output_type": "execute_result",
          "data": {
            "text/plain": [
              "<matplotlib.axes._subplots.AxesSubplot at 0x7fb1ad69ce10>"
            ]
          },
          "metadata": {},
          "execution_count": 191
        },
        {
          "output_type": "display_data",
          "data": {
            "text/plain": [
              "<Figure size 720x720 with 2 Axes>"
            ],
            "image/png": "[encoded data removed]"
          },
          "metadata": {
            "needs_background": "light"
          }
        }
      ]
    },
    {
      "cell_type": "markdown",
      "source": [
        "Visualizando gráfico de variáveis categóricas. Avaliar se a variável resposta é influenciada por elas."
      ],
      "metadata": {
        "id": "MTnF-T-DEDhD"
      }
    },
    {
      "cell_type": "code",
      "source": [
        "#Countplot venda ou não\n",
        "# A coluna \"Receita\" informa se em cada acesso houve ou não uma compra. No gráfico abaixo identificamos que o número de acessos onde não houve uma\n",
        "#compra é superior a acessos onde não foi concluída compra.\n",
        "plt.subplot(1,2,2)\n",
        "plt.title(\"Venda ou Não\")\n",
        "sns.countplot(df['Receita'])"
      ],
      "metadata": {
        "id": "DrJDpQRRznCj",
        "colab": {
          "base_uri": "https://localhost:8080/",
          "height": 312
        },
        "outputId": "2b664019-fa74-4047-bcfc-6bbbba5b6910"
      },
      "execution_count": 192,
      "outputs": [
        {
          "output_type": "execute_result",
          "data": {
            "text/plain": [
              "<matplotlib.axes._subplots.AxesSubplot at 0x7fb1ad6e2d50>"
            ]
          },
          "metadata": {},
          "execution_count": 192
        },
        {
          "output_type": "display_data",
          "data": {
            "text/plain": [
              "<Figure size 432x288 with 1 Axes>"
            ],
            "image/png": "[encoded data removed]"
          },
          "metadata": {
            "needs_background": "light"
          }
        }
      ]
    },
    {
      "cell_type": "code",
      "source": [
        "#Countplot tipo de visitante\n",
        "# O número de visitantes que retornaram ao site é superior a novos visitantes\n",
        "plt.xlabel(\"Tipo de visitante\")\n",
        "sns.countplot(df['Tipo_de_visitante'])"
      ],
      "metadata": {
        "colab": {
          "base_uri": "https://localhost:8080/",
          "height": 298
        },
        "id": "U-K95VX8TtC9",
        "outputId": "c8333743-2c4b-4131-d446-67ae705e6c89"
      },
      "execution_count": 193,
      "outputs": [
        {
          "output_type": "execute_result",
          "data": {
            "text/plain": [
              "<matplotlib.axes._subplots.AxesSubplot at 0x7fb1ad800d90>"
            ]
          },
          "metadata": {},
          "execution_count": 193
        },
        {
          "output_type": "display_data",
          "data": {
            "text/plain": [
              "<Figure size 432x288 with 1 Axes>"
            ],
            "image/png": "[encoded data removed]"
          },
          "metadata": {
            "needs_background": "light"
          }
        }
      ]
    },
    {
      "cell_type": "code",
      "source": [
        "#Stacked Bar Tipo de Visitante x Receita\n",
        "pd.crosstab(df['Tipo_de_visitante'], df['Receita']).plot(kind = 'bar',\n",
        "                                                     stacked = True,\n",
        "                                                     figsize = (15,5),\n",
        "                                                     color = ['grey', 'pink'])"
      ],
      "metadata": {
        "colab": {
          "base_uri": "https://localhost:8080/",
          "height": 427
        },
        "id": "bSYG6wFYUZkH",
        "outputId": "2d753a8f-9947-49dd-950f-1ba60bee8119"
      },
      "execution_count": 194,
      "outputs": [
        {
          "output_type": "execute_result",
          "data": {
            "text/plain": [
              "<matplotlib.axes._subplots.AxesSubplot at 0x7fb1adcdc650>"
            ]
          },
          "metadata": {},
          "execution_count": 194
        },
        {
          "output_type": "display_data",
          "data": {
            "text/plain": [
              "<Figure size 1080x360 with 1 Axes>"
            ],
            "image/png": "[encoded data removed]"
          },
          "metadata": {
            "needs_background": "light"
          }
        }
      ]
    },
    {
      "cell_type": "code",
      "source": [
        "# Pie chart tipos de visitantes\n",
        "\n",
        "labels = ['Visitante_retornando', 'Novo_visitante', 'Outro']\n",
        "plt.title('Tipos de visitantes')\n",
        "plt.pie(df['Tipo_de_visitante']. value_counts(), labels = labels, autopct = '%.2f%%' )\n",
        "plt.legend()"
      ],
      "metadata": {
        "colab": {
          "base_uri": "https://localhost:8080/",
          "height": 281
        },
        "id": "Vkqx5KXYVdIG",
        "outputId": "ffb6bb15-c2fc-43a2-efa6-cc1cd2f5d902"
      },
      "execution_count": 195,
      "outputs": [
        {
          "output_type": "execute_result",
          "data": {
            "text/plain": [
              "<matplotlib.legend.Legend at 0x7fb1ada07a10>"
            ]
          },
          "metadata": {},
          "execution_count": 195
        },
        {
          "output_type": "display_data",
          "data": {
            "text/plain": [
              "<Figure size 432x288 with 1 Axes>"
            ],
            "image/png": "[encoded data removed]"
          },
          "metadata": {}
        }
      ]
    },
    {
      "cell_type": "code",
      "source": [
        "# Countplot Final de Semana ou Não\n",
        "plt.subplot(1,2,1)\n",
        "plt.title(\"Final de Semana ou Não\")\n",
        "sns.countplot(df['Fim_de_semana'])\n"
      ],
      "metadata": {
        "colab": {
          "base_uri": "https://localhost:8080/",
          "height": 313
        },
        "id": "lihtDmWaZMeX",
        "outputId": "9218a101-f4e4-44d2-9454-0ef37b1cf533"
      },
      "execution_count": 196,
      "outputs": [
        {
          "output_type": "execute_result",
          "data": {
            "text/plain": [
              "<matplotlib.axes._subplots.AxesSubplot at 0x7fb1ad9ae290>"
            ]
          },
          "metadata": {},
          "execution_count": 196
        },
        {
          "output_type": "display_data",
          "data": {
            "text/plain": [
              "<Figure size 432x288 with 1 Axes>"
            ],
            "image/png": "[encoded data removed]"
          },
          "metadata": {
            "needs_background": "light"
          }
        }
      ]
    },
    {
      "cell_type": "code",
      "source": [
        "# Stacked Bar Final de Semana x Receita\n",
        "pd.crosstab(df['Fim_de_semana'], df['Receita']).plot(kind = 'bar',\n",
        "                                                     stacked = True,\n",
        "                                                     figsize = (15,5),\n",
        "                                                     color = ['gray', 'pink'])"
      ],
      "metadata": {
        "colab": {
          "base_uri": "https://localhost:8080/",
          "height": 367
        },
        "id": "MmiwKwhVaHT1",
        "outputId": "2c252637-19f1-4e0c-b1e7-72eb409f18f6"
      },
      "execution_count": 199,
      "outputs": [
        {
          "output_type": "execute_result",
          "data": {
            "text/plain": [
              "<matplotlib.axes._subplots.AxesSubplot at 0x7fb1ae31c250>"
            ]
          },
          "metadata": {},
          "execution_count": 199
        },
        {
          "output_type": "display_data",
          "data": {
            "text/plain": [
              "<Figure size 1080x360 with 1 Axes>"
            ],
            "image/png": "[encoded data removed]"
          },
          "metadata": {
            "needs_background": "light"
          }
        }
      ]
    },
    {
      "cell_type": "code",
      "source": [
        "#Countplot Tipo de tráfego\n",
        "plt.title(\"Tipos de tráfego\")\n",
        "plt.xlabel(\"Tipo de Tráfego\")\n",
        "sns.countplot(df[\"Tipo_de_tráfego\"])"
      ],
      "metadata": {
        "colab": {
          "base_uri": "https://localhost:8080/",
          "height": 314
        },
        "id": "uKczQ_TMeYII",
        "outputId": "8f32c3da-abc3-411b-b3c9-0ac41acc45ed"
      },
      "execution_count": 206,
      "outputs": [
        {
          "output_type": "execute_result",
          "data": {
            "text/plain": [
              "<matplotlib.axes._subplots.AxesSubplot at 0x7fb1ae336d90>"
            ]
          },
          "metadata": {},
          "execution_count": 206
        },
        {
          "output_type": "display_data",
          "data": {
            "text/plain": [
              "<Figure size 432x288 with 1 Axes>"
            ],
            "image/png": "[encoded data removed]"
          },
          "metadata": {
            "needs_background": "light"
          }
        }
      ]
    },
    {
      "cell_type": "code",
      "source": [
        "# Stacked Bar Tipos de tráfego x Receita\n",
        "\n",
        "pd.crosstab(df['Tipo_de_tráfego'], df['Receita']).plot(kind = 'bar',\n",
        "                                                     stacked = True,\n",
        "                                                     figsize = (15,5),\n",
        "                                                     color = ['gray', 'pink'])"
      ],
      "metadata": {
        "colab": {
          "base_uri": "https://localhost:8080/",
          "height": 355
        },
        "id": "zAjrE5TtfXbx",
        "outputId": "ad1c23ed-239b-4c2c-a459-43ee5827a89c"
      },
      "execution_count": 215,
      "outputs": [
        {
          "output_type": "execute_result",
          "data": {
            "text/plain": [
              "<matplotlib.axes._subplots.AxesSubplot at 0x7fb1ae04e950>"
            ]
          },
          "metadata": {},
          "execution_count": 215
        },
        {
          "output_type": "display_data",
          "data": {
            "text/plain": [
              "<Figure size 1080x360 with 1 Axes>"
            ],
            "image/png": "[encoded data removed]"
          },
          "metadata": {
            "needs_background": "light"
          }
        }
      ]
    }
  ]
}