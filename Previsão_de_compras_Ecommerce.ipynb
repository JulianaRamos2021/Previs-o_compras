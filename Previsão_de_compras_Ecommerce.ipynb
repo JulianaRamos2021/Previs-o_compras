{
  "nbformat": 4,
  "nbformat_minor": 0,
  "metadata": {
    "colab": {
      "provenance": [],
      "mount_file_id": "1dr-xQnTFbAwHo4B_soh8Rrb7XseVgC0f",
      "authorship_tag": "ABX9TyNa/KOQuNgPO95S439Nq0wA",
      "include_colab_link": true
    },
    "kernelspec": {
      "name": "python3",
      "display_name": "Python 3"
    },
    "language_info": {
      "name": "python"
    }
  },
  "cells": [
    {
      "cell_type": "markdown",
      "metadata": {
        "id": "view-in-github",
        "colab_type": "text"
      },
      "source": [
        "<a href=\"https://colab.research.google.com/github/JulianaRamos2021/Previsao_compras/blob/main/Previs%C3%A3o_de_compras_Ecommerce.ipynb\" target=\"_parent\"><img src=\"https://colab.research.google.com/assets/colab-badge.svg\" alt=\"Open In Colab\"/></a>"
      ]
    },
    {
      "cell_type": "markdown",
      "source": [
        "#Usando SVM para prever intenção de compra.\n"
      ],
      "metadata": {
        "id": "_cAJluIoLsK9"
      }
    },
    {
      "cell_type": "code",
      "execution_count": 4,
      "metadata": {
        "colab": {
          "base_uri": "https://localhost:8080/"
        },
        "id": "iYCCi3DXLfaa",
        "outputId": "fc3f36a7-6829-47fe-93c5-786086b961f0"
      },
      "outputs": [
        {
          "output_type": "stream",
          "name": "stdout",
          "text": [
            "Versão da linguagem Python Usada neste Jupyter Notebook: 3.7.15\n"
          ]
        }
      ],
      "source": [
        "from platform import python_version\n",
        "print('Versão da linguagem Python Usada neste Jupyter Notebook:', python_version())"
      ]
    },
    {
      "cell_type": "code",
      "source": [
        "#Instalar pacote Watermark. Pacote grava versões de outros pacotes neste jupyter notebook.\n",
        "!pip install -q -U watermark"
      ],
      "metadata": {
        "id": "6nQeM_pzQxVI",
        "colab": {
          "base_uri": "https://localhost:8080/"
        },
        "outputId": "8c6653d1-a8b8-4902-beda-9396600ff851"
      },
      "execution_count": 5,
      "outputs": [
        {
          "output_type": "stream",
          "name": "stdout",
          "text": [
            "\u001b[?25l\r\u001b[K     |▏                               | 10 kB 11.4 MB/s eta 0:00:01\r\u001b[K     |▍                               | 20 kB 5.3 MB/s eta 0:00:01\r\u001b[K     |▋                               | 30 kB 7.5 MB/s eta 0:00:01\r\u001b[K     |▉                               | 40 kB 4.6 MB/s eta 0:00:01\r\u001b[K     |█                               | 51 kB 4.8 MB/s eta 0:00:01\r\u001b[K     |█▎                              | 61 kB 5.6 MB/s eta 0:00:01\r\u001b[K     |█▌                              | 71 kB 5.6 MB/s eta 0:00:01\r\u001b[K     |█▊                              | 81 kB 6.3 MB/s eta 0:00:01\r\u001b[K     |█▉                              | 92 kB 6.2 MB/s eta 0:00:01\r\u001b[K     |██                              | 102 kB 4.9 MB/s eta 0:00:01\r\u001b[K     |██▎                             | 112 kB 4.9 MB/s eta 0:00:01\r\u001b[K     |██▌                             | 122 kB 4.9 MB/s eta 0:00:01\r\u001b[K     |██▊                             | 133 kB 4.9 MB/s eta 0:00:01\r\u001b[K     |███                             | 143 kB 4.9 MB/s eta 0:00:01\r\u001b[K     |███▏                            | 153 kB 4.9 MB/s eta 0:00:01\r\u001b[K     |███▍                            | 163 kB 4.9 MB/s eta 0:00:01\r\u001b[K     |███▌                            | 174 kB 4.9 MB/s eta 0:00:01\r\u001b[K     |███▊                            | 184 kB 4.9 MB/s eta 0:00:01\r\u001b[K     |████                            | 194 kB 4.9 MB/s eta 0:00:01\r\u001b[K     |████▏                           | 204 kB 4.9 MB/s eta 0:00:01\r\u001b[K     |████▍                           | 215 kB 4.9 MB/s eta 0:00:01\r\u001b[K     |████▋                           | 225 kB 4.9 MB/s eta 0:00:01\r\u001b[K     |████▉                           | 235 kB 4.9 MB/s eta 0:00:01\r\u001b[K     |█████                           | 245 kB 4.9 MB/s eta 0:00:01\r\u001b[K     |█████▎                          | 256 kB 4.9 MB/s eta 0:00:01\r\u001b[K     |█████▍                          | 266 kB 4.9 MB/s eta 0:00:01\r\u001b[K     |█████▋                          | 276 kB 4.9 MB/s eta 0:00:01\r\u001b[K     |█████▉                          | 286 kB 4.9 MB/s eta 0:00:01\r\u001b[K     |██████                          | 296 kB 4.9 MB/s eta 0:00:01\r\u001b[K     |██████▎                         | 307 kB 4.9 MB/s eta 0:00:01\r\u001b[K     |██████▌                         | 317 kB 4.9 MB/s eta 0:00:01\r\u001b[K     |██████▊                         | 327 kB 4.9 MB/s eta 0:00:01\r\u001b[K     |███████                         | 337 kB 4.9 MB/s eta 0:00:01\r\u001b[K     |███████                         | 348 kB 4.9 MB/s eta 0:00:01\r\u001b[K     |███████▎                        | 358 kB 4.9 MB/s eta 0:00:01\r\u001b[K     |███████▌                        | 368 kB 4.9 MB/s eta 0:00:01\r\u001b[K     |███████▊                        | 378 kB 4.9 MB/s eta 0:00:01\r\u001b[K     |████████                        | 389 kB 4.9 MB/s eta 0:00:01\r\u001b[K     |████████▏                       | 399 kB 4.9 MB/s eta 0:00:01\r\u001b[K     |████████▍                       | 409 kB 4.9 MB/s eta 0:00:01\r\u001b[K     |████████▋                       | 419 kB 4.9 MB/s eta 0:00:01\r\u001b[K     |████████▉                       | 430 kB 4.9 MB/s eta 0:00:01\r\u001b[K     |█████████                       | 440 kB 4.9 MB/s eta 0:00:01\r\u001b[K     |█████████▏                      | 450 kB 4.9 MB/s eta 0:00:01\r\u001b[K     |█████████▍                      | 460 kB 4.9 MB/s eta 0:00:01\r\u001b[K     |█████████▋                      | 471 kB 4.9 MB/s eta 0:00:01\r\u001b[K     |█████████▉                      | 481 kB 4.9 MB/s eta 0:00:01\r\u001b[K     |██████████                      | 491 kB 4.9 MB/s eta 0:00:01\r\u001b[K     |██████████▎                     | 501 kB 4.9 MB/s eta 0:00:01\r\u001b[K     |██████████▌                     | 512 kB 4.9 MB/s eta 0:00:01\r\u001b[K     |██████████▋                     | 522 kB 4.9 MB/s eta 0:00:01\r\u001b[K     |██████████▉                     | 532 kB 4.9 MB/s eta 0:00:01\r\u001b[K     |███████████                     | 542 kB 4.9 MB/s eta 0:00:01\r\u001b[K     |███████████▎                    | 552 kB 4.9 MB/s eta 0:00:01\r\u001b[K     |███████████▌                    | 563 kB 4.9 MB/s eta 0:00:01\r\u001b[K     |███████████▊                    | 573 kB 4.9 MB/s eta 0:00:01\r\u001b[K     |████████████                    | 583 kB 4.9 MB/s eta 0:00:01\r\u001b[K     |████████████▏                   | 593 kB 4.9 MB/s eta 0:00:01\r\u001b[K     |████████████▍                   | 604 kB 4.9 MB/s eta 0:00:01\r\u001b[K     |████████████▌                   | 614 kB 4.9 MB/s eta 0:00:01\r\u001b[K     |████████████▊                   | 624 kB 4.9 MB/s eta 0:00:01\r\u001b[K     |█████████████                   | 634 kB 4.9 MB/s eta 0:00:01\r\u001b[K     |█████████████▏                  | 645 kB 4.9 MB/s eta 0:00:01\r\u001b[K     |█████████████▍                  | 655 kB 4.9 MB/s eta 0:00:01\r\u001b[K     |█████████████▋                  | 665 kB 4.9 MB/s eta 0:00:01\r\u001b[K     |█████████████▉                  | 675 kB 4.9 MB/s eta 0:00:01\r\u001b[K     |██████████████                  | 686 kB 4.9 MB/s eta 0:00:01\r\u001b[K     |██████████████▏                 | 696 kB 4.9 MB/s eta 0:00:01\r\u001b[K     |██████████████▍                 | 706 kB 4.9 MB/s eta 0:00:01\r\u001b[K     |██████████████▋                 | 716 kB 4.9 MB/s eta 0:00:01\r\u001b[K     |██████████████▉                 | 727 kB 4.9 MB/s eta 0:00:01\r\u001b[K     |███████████████                 | 737 kB 4.9 MB/s eta 0:00:01\r\u001b[K     |███████████████▎                | 747 kB 4.9 MB/s eta 0:00:01\r\u001b[K     |███████████████▌                | 757 kB 4.9 MB/s eta 0:00:01\r\u001b[K     |███████████████▊                | 768 kB 4.9 MB/s eta 0:00:01\r\u001b[K     |████████████████                | 778 kB 4.9 MB/s eta 0:00:01\r\u001b[K     |████████████████                | 788 kB 4.9 MB/s eta 0:00:01\r\u001b[K     |████████████████▎               | 798 kB 4.9 MB/s eta 0:00:01\r\u001b[K     |████████████████▌               | 808 kB 4.9 MB/s eta 0:00:01\r\u001b[K     |████████████████▊               | 819 kB 4.9 MB/s eta 0:00:01\r\u001b[K     |█████████████████               | 829 kB 4.9 MB/s eta 0:00:01\r\u001b[K     |█████████████████▏              | 839 kB 4.9 MB/s eta 0:00:01\r\u001b[K     |█████████████████▍              | 849 kB 4.9 MB/s eta 0:00:01\r\u001b[K     |█████████████████▋              | 860 kB 4.9 MB/s eta 0:00:01\r\u001b[K     |█████████████████▊              | 870 kB 4.9 MB/s eta 0:00:01\r\u001b[K     |██████████████████              | 880 kB 4.9 MB/s eta 0:00:01\r\u001b[K     |██████████████████▏             | 890 kB 4.9 MB/s eta 0:00:01\r\u001b[K     |██████████████████▍             | 901 kB 4.9 MB/s eta 0:00:01\r\u001b[K     |██████████████████▋             | 911 kB 4.9 MB/s eta 0:00:01\r\u001b[K     |██████████████████▉             | 921 kB 4.9 MB/s eta 0:00:01\r\u001b[K     |███████████████████             | 931 kB 4.9 MB/s eta 0:00:01\r\u001b[K     |███████████████████▎            | 942 kB 4.9 MB/s eta 0:00:01\r\u001b[K     |███████████████████▌            | 952 kB 4.9 MB/s eta 0:00:01\r\u001b[K     |███████████████████▋            | 962 kB 4.9 MB/s eta 0:00:01\r\u001b[K     |███████████████████▉            | 972 kB 4.9 MB/s eta 0:00:01\r\u001b[K     |████████████████████            | 983 kB 4.9 MB/s eta 0:00:01\r\u001b[K     |████████████████████▎           | 993 kB 4.9 MB/s eta 0:00:01\r\u001b[K     |████████████████████▌           | 1.0 MB 4.9 MB/s eta 0:00:01\r\u001b[K     |████████████████████▊           | 1.0 MB 4.9 MB/s eta 0:00:01\r\u001b[K     |█████████████████████           | 1.0 MB 4.9 MB/s eta 0:00:01\r\u001b[K     |█████████████████████▏          | 1.0 MB 4.9 MB/s eta 0:00:01\r\u001b[K     |█████████████████████▎          | 1.0 MB 4.9 MB/s eta 0:00:01\r\u001b[K     |█████████████████████▌          | 1.1 MB 4.9 MB/s eta 0:00:01\r\u001b[K     |█████████████████████▊          | 1.1 MB 4.9 MB/s eta 0:00:01\r\u001b[K     |██████████████████████          | 1.1 MB 4.9 MB/s eta 0:00:01\r\u001b[K     |██████████████████████▏         | 1.1 MB 4.9 MB/s eta 0:00:01\r\u001b[K     |██████████████████████▍         | 1.1 MB 4.9 MB/s eta 0:00:01\r\u001b[K     |██████████████████████▋         | 1.1 MB 4.9 MB/s eta 0:00:01\r\u001b[K     |██████████████████████▉         | 1.1 MB 4.9 MB/s eta 0:00:01\r\u001b[K     |███████████████████████         | 1.1 MB 4.9 MB/s eta 0:00:01\r\u001b[K     |███████████████████████▏        | 1.1 MB 4.9 MB/s eta 0:00:01\r\u001b[K     |███████████████████████▍        | 1.1 MB 4.9 MB/s eta 0:00:01\r\u001b[K     |███████████████████████▋        | 1.2 MB 4.9 MB/s eta 0:00:01\r\u001b[K     |███████████████████████▉        | 1.2 MB 4.9 MB/s eta 0:00:01\r\u001b[K     |████████████████████████        | 1.2 MB 4.9 MB/s eta 0:00:01\r\u001b[K     |████████████████████████▎       | 1.2 MB 4.9 MB/s eta 0:00:01\r\u001b[K     |████████████████████████▌       | 1.2 MB 4.9 MB/s eta 0:00:01\r\u001b[K     |████████████████████████▊       | 1.2 MB 4.9 MB/s eta 0:00:01\r\u001b[K     |████████████████████████▉       | 1.2 MB 4.9 MB/s eta 0:00:01\r\u001b[K     |█████████████████████████       | 1.2 MB 4.9 MB/s eta 0:00:01\r\u001b[K     |█████████████████████████▎      | 1.2 MB 4.9 MB/s eta 0:00:01\r\u001b[K     |█████████████████████████▌      | 1.2 MB 4.9 MB/s eta 0:00:01\r\u001b[K     |█████████████████████████▊      | 1.3 MB 4.9 MB/s eta 0:00:01\r\u001b[K     |██████████████████████████      | 1.3 MB 4.9 MB/s eta 0:00:01\r\u001b[K     |██████████████████████████▏     | 1.3 MB 4.9 MB/s eta 0:00:01\r\u001b[K     |██████████████████████████▍     | 1.3 MB 4.9 MB/s eta 0:00:01\r\u001b[K     |██████████████████████████▌     | 1.3 MB 4.9 MB/s eta 0:00:01\r\u001b[K     |██████████████████████████▊     | 1.3 MB 4.9 MB/s eta 0:00:01\r\u001b[K     |███████████████████████████     | 1.3 MB 4.9 MB/s eta 0:00:01\r\u001b[K     |███████████████████████████▏    | 1.3 MB 4.9 MB/s eta 0:00:01\r\u001b[K     |███████████████████████████▍    | 1.3 MB 4.9 MB/s eta 0:00:01\r\u001b[K     |███████████████████████████▋    | 1.4 MB 4.9 MB/s eta 0:00:01\r\u001b[K     |███████████████████████████▉    | 1.4 MB 4.9 MB/s eta 0:00:01\r\u001b[K     |████████████████████████████    | 1.4 MB 4.9 MB/s eta 0:00:01\r\u001b[K     |████████████████████████████▎   | 1.4 MB 4.9 MB/s eta 0:00:01\r\u001b[K     |████████████████████████████▍   | 1.4 MB 4.9 MB/s eta 0:00:01\r\u001b[K     |████████████████████████████▋   | 1.4 MB 4.9 MB/s eta 0:00:01\r\u001b[K     |████████████████████████████▉   | 1.4 MB 4.9 MB/s eta 0:00:01\r\u001b[K     |█████████████████████████████   | 1.4 MB 4.9 MB/s eta 0:00:01\r\u001b[K     |█████████████████████████████▎  | 1.4 MB 4.9 MB/s eta 0:00:01\r\u001b[K     |█████████████████████████████▌  | 1.4 MB 4.9 MB/s eta 0:00:01\r\u001b[K     |█████████████████████████████▊  | 1.5 MB 4.9 MB/s eta 0:00:01\r\u001b[K     |██████████████████████████████  | 1.5 MB 4.9 MB/s eta 0:00:01\r\u001b[K     |██████████████████████████████  | 1.5 MB 4.9 MB/s eta 0:00:01\r\u001b[K     |██████████████████████████████▎ | 1.5 MB 4.9 MB/s eta 0:00:01\r\u001b[K     |██████████████████████████████▌ | 1.5 MB 4.9 MB/s eta 0:00:01\r\u001b[K     |██████████████████████████████▊ | 1.5 MB 4.9 MB/s eta 0:00:01\r\u001b[K     |███████████████████████████████ | 1.5 MB 4.9 MB/s eta 0:00:01\r\u001b[K     |███████████████████████████████▏| 1.5 MB 4.9 MB/s eta 0:00:01\r\u001b[K     |███████████████████████████████▍| 1.5 MB 4.9 MB/s eta 0:00:01\r\u001b[K     |███████████████████████████████▋| 1.5 MB 4.9 MB/s eta 0:00:01\r\u001b[K     |███████████████████████████████▉| 1.6 MB 4.9 MB/s eta 0:00:01\r\u001b[K     |████████████████████████████████| 1.6 MB 4.9 MB/s eta 0:00:01\r\u001b[K     |████████████████████████████████| 1.6 MB 4.9 MB/s \n",
            "\u001b[?25h"
          ]
        }
      ]
    },
    {
      "cell_type": "code",
      "source": [
        "#Pacotes que precisaremos para o projeto\n",
        "import time\n",
        "import numpy as np\n",
        "import pandas as pd\n",
        "import seaborn as sns\n",
        "import matplotlib.pyplot as plt\n",
        "from sklearn.preprocessing import StandardScaler\n",
        "from sklearn.preprocessing import LabelEncoder\n",
        "from sklearn.model_selection import train_test_split\n",
        "from sklearn.model_selection import GridSearchCV\n",
        "from sklearn.metrics import precision_score, recall_score, f1_score, accuracy_score, roc_auc_score\n",
        "from sklearn import svm\n",
        "import sklearn\n",
        "import matplotlib\n",
        "import warnings\n",
        "warnings.filterwarnings(\"ignore\") \n",
        "\n",
        "\n"
      ],
      "metadata": {
        "id": "UPvFrlERRHE4"
      },
      "execution_count": 6,
      "outputs": []
    },
    {
      "cell_type": "code",
      "source": [
        "#Versão dos pacotes usados no jupyter notebook\n",
        "%reload_ext watermark\n",
        "%watermark -a \"Ciência dos Dados #NaPrática\" --iversions"
      ],
      "metadata": {
        "colab": {
          "base_uri": "https://localhost:8080/"
        },
        "id": "u33Cp2LHeANN",
        "outputId": "a8967c25-a272-4020-96bf-081a01305e2a"
      },
      "execution_count": 7,
      "outputs": [
        {
          "output_type": "stream",
          "name": "stdout",
          "text": [
            "Author: Ciência dos Dados #NaPrática\n",
            "\n",
            "seaborn   : 0.11.2\n",
            "pandas    : 1.3.5\n",
            "matplotlib: 3.2.2\n",
            "numpy     : 1.21.6\n",
            "sklearn   : 1.0.2\n",
            "\n"
          ]
        }
      ]
    },
    {
      "cell_type": "markdown",
      "source": [
        "# BAIXANDO BASE DE DADOS"
      ],
      "metadata": {
        "id": "tF3XxKcRe-GU"
      }
    },
    {
      "cell_type": "code",
      "source": [
        "#Montar o Drive criando uma pasta no Google Drive criando a pasta \"Previsão compras\"\n",
        "!mkdir -p \"/content/drive/MyDrive/Colab Notebooks/Previsao_compras\""
      ],
      "metadata": {
        "id": "SQ2J8c0NgfLS"
      },
      "execution_count": 8,
      "outputs": []
    },
    {
      "cell_type": "code",
      "source": [
        "#Salvando dados CSV DIRETAMENTE do site na pasta criada no Google Drive.\n",
        "!wget -P \"/content/drive/MyDrive/Colab Notebooks/Previsao_compras\" https://archive.ics.uci.edu/ml/machine-learning-databases/00468/online_shoppers_intention.csv"
      ],
      "metadata": {
        "colab": {
          "base_uri": "https://localhost:8080/"
        },
        "id": "d9-YU3crjbmc",
        "outputId": "fd8520c0-6aa0-4515-9a30-ab651ae36cf3"
      },
      "execution_count": 9,
      "outputs": [
        {
          "output_type": "stream",
          "name": "stdout",
          "text": [
            "--2022-11-20 15:31:27--  https://archive.ics.uci.edu/ml/machine-learning-databases/00468/online_shoppers_intention.csv\n",
            "Resolving archive.ics.uci.edu (archive.ics.uci.edu)... 128.195.10.252\n",
            "Connecting to archive.ics.uci.edu (archive.ics.uci.edu)|128.195.10.252|:443... connected.\n",
            "HTTP request sent, awaiting response... 200 OK\n",
            "Length: 1072063 (1.0M) [application/x-httpd-php]\n",
            "Saving to: ‘/content/drive/MyDrive/Colab Notebooks/Previsao_compras/online_shoppers_intention.csv.1’\n",
            "\n",
            "online_shoppers_int 100%[===================>]   1.02M  3.02MB/s    in 0.3s    \n",
            "\n",
            "2022-11-20 15:31:27 (3.02 MB/s) - ‘/content/drive/MyDrive/Colab Notebooks/Previsao_compras/online_shoppers_intention.csv.1’ saved [1072063/1072063]\n",
            "\n"
          ]
        }
      ]
    },
    {
      "cell_type": "code",
      "source": [
        "#Criando um dataframe definido como df_original\n",
        "df_original = pd.read_csv(\"/content/drive/MyDrive/Colab Notebooks/Previsao_compras/online_shoppers_intention.csv\") \n",
        "df_original.head()"
      ],
      "metadata": {
        "colab": {
          "base_uri": "https://localhost:8080/",
          "height": 270
        },
        "id": "1dATUU-VkcKt",
        "outputId": "98239deb-70fd-484c-9edb-88fdce4ef4e9"
      },
      "execution_count": 10,
      "outputs": [
        {
          "output_type": "execute_result",
          "data": {
            "text/plain": [
              "   Administrative  Administrative_Duration  Informational  \\\n",
              "0               0                      0.0              0   \n",
              "1               0                      0.0              0   \n",
              "2               0                      0.0              0   \n",
              "3               0                      0.0              0   \n",
              "4               0                      0.0              0   \n",
              "\n",
              "   Informational_Duration  ProductRelated  ProductRelated_Duration  \\\n",
              "0                     0.0               1                 0.000000   \n",
              "1                     0.0               2                64.000000   \n",
              "2                     0.0               1                 0.000000   \n",
              "3                     0.0               2                 2.666667   \n",
              "4                     0.0              10               627.500000   \n",
              "\n",
              "   BounceRates  ExitRates  PageValues  SpecialDay Month  OperatingSystems  \\\n",
              "0         0.20       0.20         0.0         0.0   Feb                 1   \n",
              "1         0.00       0.10         0.0         0.0   Feb                 2   \n",
              "2         0.20       0.20         0.0         0.0   Feb                 4   \n",
              "3         0.05       0.14         0.0         0.0   Feb                 3   \n",
              "4         0.02       0.05         0.0         0.0   Feb                 3   \n",
              "\n",
              "   Browser  Region  TrafficType        VisitorType  Weekend  Revenue  \n",
              "0        1       1            1  Returning_Visitor    False    False  \n",
              "1        2       1            2  Returning_Visitor    False    False  \n",
              "2        1       9            3  Returning_Visitor    False    False  \n",
              "3        2       2            4  Returning_Visitor    False    False  \n",
              "4        3       1            4  Returning_Visitor     True    False  "
            ],
            "text/html": [
              "\n",
              "  <div id=\"df-8a573e47-45e8-4c3d-8e56-f70129ec43f5\">\n",
              "    <div class=\"colab-df-container\">\n",
              "      <div>\n",
              "<style scoped>\n",
              "    .dataframe tbody tr th:only-of-type {\n",
              "        vertical-align: middle;\n",
              "    }\n",
              "\n",
              "    .dataframe tbody tr th {\n",
              "        vertical-align: top;\n",
              "    }\n",
              "\n",
              "    .dataframe thead th {\n",
              "        text-align: right;\n",
              "    }\n",
              "</style>\n",
              "<table border=\"1\" class=\"dataframe\">\n",
              "  <thead>\n",
              "    <tr style=\"text-align: right;\">\n",
              "      <th></th>\n",
              "      <th>Administrative</th>\n",
              "      <th>Administrative_Duration</th>\n",
              "      <th>Informational</th>\n",
              "      <th>Informational_Duration</th>\n",
              "      <th>ProductRelated</th>\n",
              "      <th>ProductRelated_Duration</th>\n",
              "      <th>BounceRates</th>\n",
              "      <th>ExitRates</th>\n",
              "      <th>PageValues</th>\n",
              "      <th>SpecialDay</th>\n",
              "      <th>Month</th>\n",
              "      <th>OperatingSystems</th>\n",
              "      <th>Browser</th>\n",
              "      <th>Region</th>\n",
              "      <th>TrafficType</th>\n",
              "      <th>VisitorType</th>\n",
              "      <th>Weekend</th>\n",
              "      <th>Revenue</th>\n",
              "    </tr>\n",
              "  </thead>\n",
              "  <tbody>\n",
              "    <tr>\n",
              "      <th>0</th>\n",
              "      <td>0</td>\n",
              "      <td>0.0</td>\n",
              "      <td>0</td>\n",
              "      <td>0.0</td>\n",
              "      <td>1</td>\n",
              "      <td>0.000000</td>\n",
              "      <td>0.20</td>\n",
              "      <td>0.20</td>\n",
              "      <td>0.0</td>\n",
              "      <td>0.0</td>\n",
              "      <td>Feb</td>\n",
              "      <td>1</td>\n",
              "      <td>1</td>\n",
              "      <td>1</td>\n",
              "      <td>1</td>\n",
              "      <td>Returning_Visitor</td>\n",
              "      <td>False</td>\n",
              "      <td>False</td>\n",
              "    </tr>\n",
              "    <tr>\n",
              "      <th>1</th>\n",
              "      <td>0</td>\n",
              "      <td>0.0</td>\n",
              "      <td>0</td>\n",
              "      <td>0.0</td>\n",
              "      <td>2</td>\n",
              "      <td>64.000000</td>\n",
              "      <td>0.00</td>\n",
              "      <td>0.10</td>\n",
              "      <td>0.0</td>\n",
              "      <td>0.0</td>\n",
              "      <td>Feb</td>\n",
              "      <td>2</td>\n",
              "      <td>2</td>\n",
              "      <td>1</td>\n",
              "      <td>2</td>\n",
              "      <td>Returning_Visitor</td>\n",
              "      <td>False</td>\n",
              "      <td>False</td>\n",
              "    </tr>\n",
              "    <tr>\n",
              "      <th>2</th>\n",
              "      <td>0</td>\n",
              "      <td>0.0</td>\n",
              "      <td>0</td>\n",
              "      <td>0.0</td>\n",
              "      <td>1</td>\n",
              "      <td>0.000000</td>\n",
              "      <td>0.20</td>\n",
              "      <td>0.20</td>\n",
              "      <td>0.0</td>\n",
              "      <td>0.0</td>\n",
              "      <td>Feb</td>\n",
              "      <td>4</td>\n",
              "      <td>1</td>\n",
              "      <td>9</td>\n",
              "      <td>3</td>\n",
              "      <td>Returning_Visitor</td>\n",
              "      <td>False</td>\n",
              "      <td>False</td>\n",
              "    </tr>\n",
              "    <tr>\n",
              "      <th>3</th>\n",
              "      <td>0</td>\n",
              "      <td>0.0</td>\n",
              "      <td>0</td>\n",
              "      <td>0.0</td>\n",
              "      <td>2</td>\n",
              "      <td>2.666667</td>\n",
              "      <td>0.05</td>\n",
              "      <td>0.14</td>\n",
              "      <td>0.0</td>\n",
              "      <td>0.0</td>\n",
              "      <td>Feb</td>\n",
              "      <td>3</td>\n",
              "      <td>2</td>\n",
              "      <td>2</td>\n",
              "      <td>4</td>\n",
              "      <td>Returning_Visitor</td>\n",
              "      <td>False</td>\n",
              "      <td>False</td>\n",
              "    </tr>\n",
              "    <tr>\n",
              "      <th>4</th>\n",
              "      <td>0</td>\n",
              "      <td>0.0</td>\n",
              "      <td>0</td>\n",
              "      <td>0.0</td>\n",
              "      <td>10</td>\n",
              "      <td>627.500000</td>\n",
              "      <td>0.02</td>\n",
              "      <td>0.05</td>\n",
              "      <td>0.0</td>\n",
              "      <td>0.0</td>\n",
              "      <td>Feb</td>\n",
              "      <td>3</td>\n",
              "      <td>3</td>\n",
              "      <td>1</td>\n",
              "      <td>4</td>\n",
              "      <td>Returning_Visitor</td>\n",
              "      <td>True</td>\n",
              "      <td>False</td>\n",
              "    </tr>\n",
              "  </tbody>\n",
              "</table>\n",
              "</div>\n",
              "      <button class=\"colab-df-convert\" onclick=\"convertToInteractive('df-8a573e47-45e8-4c3d-8e56-f70129ec43f5')\"\n",
              "              title=\"Convert this dataframe to an interactive table.\"\n",
              "              style=\"display:none;\">\n",
              "        \n",
              "  <svg xmlns=\"http://www.w3.org/2000/svg\" height=\"24px\"viewBox=\"0 0 24 24\"\n",
              "       width=\"24px\">\n",
              "    <path d=\"M0 0h24v24H0V0z\" fill=\"none\"/>\n",
              "    <path d=\"M18.56 5.44l.94 2.06.94-2.06 2.06-.94-2.06-.94-.94-2.06-.94 2.06-2.06.94zm-11 1L8.5 8.5l.94-2.06 2.06-.94-2.06-.94L8.5 2.5l-.94 2.06-2.06.94zm10 10l.94 2.06.94-2.06 2.06-.94-2.06-.94-.94-2.06-.94 2.06-2.06.94z\"/><path d=\"M17.41 7.96l-1.37-1.37c-.4-.4-.92-.59-1.43-.59-.52 0-1.04.2-1.43.59L10.3 9.45l-7.72 7.72c-.78.78-.78 2.05 0 2.83L4 21.41c.39.39.9.59 1.41.59.51 0 1.02-.2 1.41-.59l7.78-7.78 2.81-2.81c.8-.78.8-2.07 0-2.86zM5.41 20L4 18.59l7.72-7.72 1.47 1.35L5.41 20z\"/>\n",
              "  </svg>\n",
              "      </button>\n",
              "      \n",
              "  <style>\n",
              "    .colab-df-container {\n",
              "      display:flex;\n",
              "      flex-wrap:wrap;\n",
              "      gap: 12px;\n",
              "    }\n",
              "\n",
              "    .colab-df-convert {\n",
              "      background-color: #E8F0FE;\n",
              "      border: none;\n",
              "      border-radius: 50%;\n",
              "      cursor: pointer;\n",
              "      display: none;\n",
              "      fill: #1967D2;\n",
              "      height: 32px;\n",
              "      padding: 0 0 0 0;\n",
              "      width: 32px;\n",
              "    }\n",
              "\n",
              "    .colab-df-convert:hover {\n",
              "      background-color: #E2EBFA;\n",
              "      box-shadow: 0px 1px 2px rgba(60, 64, 67, 0.3), 0px 1px 3px 1px rgba(60, 64, 67, 0.15);\n",
              "      fill: #174EA6;\n",
              "    }\n",
              "\n",
              "    [theme=dark] .colab-df-convert {\n",
              "      background-color: #3B4455;\n",
              "      fill: #D2E3FC;\n",
              "    }\n",
              "\n",
              "    [theme=dark] .colab-df-convert:hover {\n",
              "      background-color: #434B5C;\n",
              "      box-shadow: 0px 1px 3px 1px rgba(0, 0, 0, 0.15);\n",
              "      filter: drop-shadow(0px 1px 2px rgba(0, 0, 0, 0.3));\n",
              "      fill: #FFFFFF;\n",
              "    }\n",
              "  </style>\n",
              "\n",
              "      <script>\n",
              "        const buttonEl =\n",
              "          document.querySelector('#df-8a573e47-45e8-4c3d-8e56-f70129ec43f5 button.colab-df-convert');\n",
              "        buttonEl.style.display =\n",
              "          google.colab.kernel.accessAllowed ? 'block' : 'none';\n",
              "\n",
              "        async function convertToInteractive(key) {\n",
              "          const element = document.querySelector('#df-8a573e47-45e8-4c3d-8e56-f70129ec43f5');\n",
              "          const dataTable =\n",
              "            await google.colab.kernel.invokeFunction('convertToInteractive',\n",
              "                                                     [key], {});\n",
              "          if (!dataTable) return;\n",
              "\n",
              "          const docLinkHtml = 'Like what you see? Visit the ' +\n",
              "            '<a target=\"_blank\" href=https://colab.research.google.com/notebooks/data_table.ipynb>data table notebook</a>'\n",
              "            + ' to learn more about interactive tables.';\n",
              "          element.innerHTML = '';\n",
              "          dataTable['output_type'] = 'display_data';\n",
              "          await google.colab.output.renderOutput(dataTable, element);\n",
              "          const docLink = document.createElement('div');\n",
              "          docLink.innerHTML = docLinkHtml;\n",
              "          element.appendChild(docLink);\n",
              "        }\n",
              "      </script>\n",
              "    </div>\n",
              "  </div>\n",
              "  "
            ]
          },
          "metadata": {},
          "execution_count": 10
        }
      ]
    },
    {
      "cell_type": "markdown",
      "source": [
        "# CONHECENDO MAIS DETALHES SOBRE A BASE DE DADOS"
      ],
      "metadata": {
        "id": "C43oURv6qY6w"
      }
    },
    {
      "cell_type": "markdown",
      "source": [
        "**Informações do conjunto de dados:**\n",
        "\n",
        "O conjunto de dados consiste em vetores de recursos pertencentes a 12.330 sessões.\n",
        "O conjunto de dados foi formado para que cada sessão\n",
        "pertenceria a um usuário diferente em um período de 1 ano para evitar\n",
        "qualquer tendência a uma campanha específica, dia especial, usuário\n",
        "perfil ou período.\n",
        "\n",
        "\n",
        "**Informações do atributo:**\n",
        "\n",
        "O conjunto de dados consiste em 10 atributos numéricos e 8 categóricos.\n",
        "O atributo 'Revenue' pode ser usado como o rótulo da classe.\n",
        "\n",
        "\"Administrativo\", \"Duração Administrativa\", \"Informativo\", \"Duração Informativa\", \"Relacionado ao Produto\" e \"Duração Relacionado ao Produto\" representam o número de diferentes tipos de páginas visitadas pelo visitante naquela sessão e o tempo total gasto em cada uma delas essas categorias de página. Os valores desses recursos são derivados das informações de URL das páginas visitadas pelo usuário e atualizadas em tempo real quando um usuário realiza uma ação, por exemplo, passando de uma página para outra. Os recursos \"Taxa de rejeição\", \"Taxa de saída\" e \"Valor da página\" representam as métricas medidas pelo \"Google Analytics\" para cada página do site de comércio eletrônico. O valor do recurso \"Taxa de rejeição\" para uma página da Web refere-se à porcentagem de visitantes que entram no site a partir dessa página e depois saem (\"bounce\") sem acionar nenhuma outra solicitação ao servidor analítico durante essa sessão. O valor do recurso \"Taxa de saída\" para uma página da Web específica é calculado como para todas as exibições de página da página, a porcentagem que foi a última na sessão. O recurso \"Valor da página\" representa o valor médio de uma página da Web que um usuário visitou antes de concluir uma transação de comércio eletrônico. O recurso \"Dia Especial\" indica a proximidade do horário de visita do site a um dia especial específico (por exemplo, Dia das Mães, Dia dos Namorados) em que as sessões têm maior probabilidade de serem finalizadas com transação. O valor desse atributo é determinado considerando a dinâmica do e-commerce como o tempo entre a data do pedido e a data de entrega. Por exemplo, para o dia de Valentina, esse valor assume um valor diferente de zero entre 2 de fevereiro e 12 de fevereiro, zero antes e depois dessa data, a menos que seja próximo a outro dia especial, e seu valor máximo de 1 em 8 de fevereiro. sistema, navegador, região, tipo de tráfego, tipo de visitante como visitante recorrente ou novo, um valor booleano indicando se a data da visita é final de semana e mês do ano"
      ],
      "metadata": {
        "id": "viBvD2Fgnc63"
      }
    },
    {
      "cell_type": "code",
      "source": [
        "#Verificar tamanho do dataset\n",
        "df_original.shape"
      ],
      "metadata": {
        "colab": {
          "base_uri": "https://localhost:8080/"
        },
        "id": "lBzjktB3oGvT",
        "outputId": "edda9e76-b2a4-4464-b6bc-16097e9c8eeb"
      },
      "execution_count": 11,
      "outputs": [
        {
          "output_type": "execute_result",
          "data": {
            "text/plain": [
              "(12330, 18)"
            ]
          },
          "metadata": {},
          "execution_count": 11
        }
      ]
    },
    {
      "cell_type": "code",
      "source": [
        "#Tipo de dados\n",
        "df_original.dtypes"
      ],
      "metadata": {
        "colab": {
          "base_uri": "https://localhost:8080/"
        },
        "id": "Aj7yf1A8oP0A",
        "outputId": "28bbe699-759a-4cba-cbd4-d02ed1d1ef82"
      },
      "execution_count": 12,
      "outputs": [
        {
          "output_type": "execute_result",
          "data": {
            "text/plain": [
              "Administrative               int64\n",
              "Administrative_Duration    float64\n",
              "Informational                int64\n",
              "Informational_Duration     float64\n",
              "ProductRelated               int64\n",
              "ProductRelated_Duration    float64\n",
              "BounceRates                float64\n",
              "ExitRates                  float64\n",
              "PageValues                 float64\n",
              "SpecialDay                 float64\n",
              "Month                       object\n",
              "OperatingSystems             int64\n",
              "Browser                      int64\n",
              "Region                       int64\n",
              "TrafficType                  int64\n",
              "VisitorType                 object\n",
              "Weekend                       bool\n",
              "Revenue                       bool\n",
              "dtype: object"
            ]
          },
          "metadata": {},
          "execution_count": 12
        }
      ]
    },
    {
      "cell_type": "code",
      "source": [
        "#Verificando valores nulos\n",
        "print(df_original.isna().sum())"
      ],
      "metadata": {
        "colab": {
          "base_uri": "https://localhost:8080/"
        },
        "id": "Rq1QBni2oP2f",
        "outputId": "580bb6cc-7d2f-4e67-920b-bdb70fb75c5f"
      },
      "execution_count": 13,
      "outputs": [
        {
          "output_type": "stream",
          "name": "stdout",
          "text": [
            "Administrative             0\n",
            "Administrative_Duration    0\n",
            "Informational              0\n",
            "Informational_Duration     0\n",
            "ProductRelated             0\n",
            "ProductRelated_Duration    0\n",
            "BounceRates                0\n",
            "ExitRates                  0\n",
            "PageValues                 0\n",
            "SpecialDay                 0\n",
            "Month                      0\n",
            "OperatingSystems           0\n",
            "Browser                    0\n",
            "Region                     0\n",
            "TrafficType                0\n",
            "VisitorType                0\n",
            "Weekend                    0\n",
            "Revenue                    0\n",
            "dtype: int64\n"
          ]
        }
      ]
    },
    {
      "cell_type": "code",
      "source": [
        "#Esse dataset não possui valores nulos, porém se houvesse para retirar uso: df_original.dropna(inplace = True)\n"
      ],
      "metadata": {
        "id": "F1IaxRpvo86O"
      },
      "execution_count": 14,
      "outputs": []
    },
    {
      "cell_type": "code",
      "source": [
        "#Colunas possuem valores únicos?\n",
        "df_original.nunique()"
      ],
      "metadata": {
        "colab": {
          "base_uri": "https://localhost:8080/"
        },
        "id": "MBzYvcQ0oP6F",
        "outputId": "cbec427c-5e01-4fe3-ef88-406070295bd0"
      },
      "execution_count": 15,
      "outputs": [
        {
          "output_type": "execute_result",
          "data": {
            "text/plain": [
              "Administrative               27\n",
              "Administrative_Duration    3335\n",
              "Informational                17\n",
              "Informational_Duration     1258\n",
              "ProductRelated              311\n",
              "ProductRelated_Duration    9551\n",
              "BounceRates                1872\n",
              "ExitRates                  4777\n",
              "PageValues                 2704\n",
              "SpecialDay                    6\n",
              "Month                        10\n",
              "OperatingSystems              8\n",
              "Browser                      13\n",
              "Region                        9\n",
              "TrafficType                  20\n",
              "VisitorType                   3\n",
              "Weekend                       2\n",
              "Revenue                       2\n",
              "dtype: int64"
            ]
          },
          "metadata": {},
          "execution_count": 15
        }
      ]
    },
    {
      "cell_type": "code",
      "source": [
        "#Preparando os dados\n",
        "\n",
        "#Criando uma cópia da minha base de dados\n",
        "df = df_original.copy()\n",
        "\n",
        "#Listas vazias para os resultados\n",
        "continuous = []\n",
        "categorical = []\n",
        "\n",
        "#loop pelas colunas (vamos desconsiderar a última coluna pois é target. O comando abaixo classifica as colunas com menos de 30 diferentes tipos de dados em dados\n",
        "#contínuos e acima de 30 diferentes tipos de dados em variável categorica )\n",
        "\n",
        "for c in df.columns[:-1]:\n",
        "  if df.nunique ()[c] >= 30:\n",
        "      continuous.append(c)\n",
        "  else:\n",
        "    categorical.append(c)"
      ],
      "metadata": {
        "id": "gJhYi66Oqj7m"
      },
      "execution_count": 16,
      "outputs": []
    },
    {
      "cell_type": "code",
      "source": [
        "#Verificando as variáveis contínuas\n",
        "continuous"
      ],
      "metadata": {
        "colab": {
          "base_uri": "https://localhost:8080/"
        },
        "id": "20kM6lHXqj4R",
        "outputId": "882a2f79-ce35-459e-a8b3-c712dfdbfc55"
      },
      "execution_count": 17,
      "outputs": [
        {
          "output_type": "execute_result",
          "data": {
            "text/plain": [
              "['Administrative_Duration',\n",
              " 'Informational_Duration',\n",
              " 'ProductRelated',\n",
              " 'ProductRelated_Duration',\n",
              " 'BounceRates',\n",
              " 'ExitRates',\n",
              " 'PageValues']"
            ]
          },
          "metadata": {},
          "execution_count": 17
        }
      ]
    },
    {
      "cell_type": "code",
      "source": [
        "categorical"
      ],
      "metadata": {
        "colab": {
          "base_uri": "https://localhost:8080/"
        },
        "id": "L0PzHDEA7JdD",
        "outputId": "96bb2601-c16b-4c3a-f79e-3dc3087087c4"
      },
      "execution_count": 18,
      "outputs": [
        {
          "output_type": "execute_result",
          "data": {
            "text/plain": [
              "['Administrative',\n",
              " 'Informational',\n",
              " 'SpecialDay',\n",
              " 'Month',\n",
              " 'OperatingSystems',\n",
              " 'Browser',\n",
              " 'Region',\n",
              " 'TrafficType',\n",
              " 'VisitorType',\n",
              " 'Weekend']"
            ]
          },
          "metadata": {},
          "execution_count": 18
        }
      ]
    },
    {
      "cell_type": "code",
      "source": [
        "#Verificando as varíaveis categóricas\n",
        "\n",
        "df[categorical].head()"
      ],
      "metadata": {
        "colab": {
          "base_uri": "https://localhost:8080/",
          "height": 206
        },
        "id": "LzDZLHwG6r2e",
        "outputId": "b34c7423-ff81-4e93-9bf3-19d9707788b2"
      },
      "execution_count": 19,
      "outputs": [
        {
          "output_type": "execute_result",
          "data": {
            "text/plain": [
              "   Administrative  Informational  SpecialDay Month  OperatingSystems  Browser  \\\n",
              "0               0              0         0.0   Feb                 1        1   \n",
              "1               0              0         0.0   Feb                 2        2   \n",
              "2               0              0         0.0   Feb                 4        1   \n",
              "3               0              0         0.0   Feb                 3        2   \n",
              "4               0              0         0.0   Feb                 3        3   \n",
              "\n",
              "   Region  TrafficType        VisitorType  Weekend  \n",
              "0       1            1  Returning_Visitor    False  \n",
              "1       1            2  Returning_Visitor    False  \n",
              "2       9            3  Returning_Visitor    False  \n",
              "3       2            4  Returning_Visitor    False  \n",
              "4       1            4  Returning_Visitor     True  "
            ],
            "text/html": [
              "\n",
              "  <div id=\"df-fb23677e-49a3-483b-9b3a-127493efda2f\">\n",
              "    <div class=\"colab-df-container\">\n",
              "      <div>\n",
              "<style scoped>\n",
              "    .dataframe tbody tr th:only-of-type {\n",
              "        vertical-align: middle;\n",
              "    }\n",
              "\n",
              "    .dataframe tbody tr th {\n",
              "        vertical-align: top;\n",
              "    }\n",
              "\n",
              "    .dataframe thead th {\n",
              "        text-align: right;\n",
              "    }\n",
              "</style>\n",
              "<table border=\"1\" class=\"dataframe\">\n",
              "  <thead>\n",
              "    <tr style=\"text-align: right;\">\n",
              "      <th></th>\n",
              "      <th>Administrative</th>\n",
              "      <th>Informational</th>\n",
              "      <th>SpecialDay</th>\n",
              "      <th>Month</th>\n",
              "      <th>OperatingSystems</th>\n",
              "      <th>Browser</th>\n",
              "      <th>Region</th>\n",
              "      <th>TrafficType</th>\n",
              "      <th>VisitorType</th>\n",
              "      <th>Weekend</th>\n",
              "    </tr>\n",
              "  </thead>\n",
              "  <tbody>\n",
              "    <tr>\n",
              "      <th>0</th>\n",
              "      <td>0</td>\n",
              "      <td>0</td>\n",
              "      <td>0.0</td>\n",
              "      <td>Feb</td>\n",
              "      <td>1</td>\n",
              "      <td>1</td>\n",
              "      <td>1</td>\n",
              "      <td>1</td>\n",
              "      <td>Returning_Visitor</td>\n",
              "      <td>False</td>\n",
              "    </tr>\n",
              "    <tr>\n",
              "      <th>1</th>\n",
              "      <td>0</td>\n",
              "      <td>0</td>\n",
              "      <td>0.0</td>\n",
              "      <td>Feb</td>\n",
              "      <td>2</td>\n",
              "      <td>2</td>\n",
              "      <td>1</td>\n",
              "      <td>2</td>\n",
              "      <td>Returning_Visitor</td>\n",
              "      <td>False</td>\n",
              "    </tr>\n",
              "    <tr>\n",
              "      <th>2</th>\n",
              "      <td>0</td>\n",
              "      <td>0</td>\n",
              "      <td>0.0</td>\n",
              "      <td>Feb</td>\n",
              "      <td>4</td>\n",
              "      <td>1</td>\n",
              "      <td>9</td>\n",
              "      <td>3</td>\n",
              "      <td>Returning_Visitor</td>\n",
              "      <td>False</td>\n",
              "    </tr>\n",
              "    <tr>\n",
              "      <th>3</th>\n",
              "      <td>0</td>\n",
              "      <td>0</td>\n",
              "      <td>0.0</td>\n",
              "      <td>Feb</td>\n",
              "      <td>3</td>\n",
              "      <td>2</td>\n",
              "      <td>2</td>\n",
              "      <td>4</td>\n",
              "      <td>Returning_Visitor</td>\n",
              "      <td>False</td>\n",
              "    </tr>\n",
              "    <tr>\n",
              "      <th>4</th>\n",
              "      <td>0</td>\n",
              "      <td>0</td>\n",
              "      <td>0.0</td>\n",
              "      <td>Feb</td>\n",
              "      <td>3</td>\n",
              "      <td>3</td>\n",
              "      <td>1</td>\n",
              "      <td>4</td>\n",
              "      <td>Returning_Visitor</td>\n",
              "      <td>True</td>\n",
              "    </tr>\n",
              "  </tbody>\n",
              "</table>\n",
              "</div>\n",
              "      <button class=\"colab-df-convert\" onclick=\"convertToInteractive('df-fb23677e-49a3-483b-9b3a-127493efda2f')\"\n",
              "              title=\"Convert this dataframe to an interactive table.\"\n",
              "              style=\"display:none;\">\n",
              "        \n",
              "  <svg xmlns=\"http://www.w3.org/2000/svg\" height=\"24px\"viewBox=\"0 0 24 24\"\n",
              "       width=\"24px\">\n",
              "    <path d=\"M0 0h24v24H0V0z\" fill=\"none\"/>\n",
              "    <path d=\"M18.56 5.44l.94 2.06.94-2.06 2.06-.94-2.06-.94-.94-2.06-.94 2.06-2.06.94zm-11 1L8.5 8.5l.94-2.06 2.06-.94-2.06-.94L8.5 2.5l-.94 2.06-2.06.94zm10 10l.94 2.06.94-2.06 2.06-.94-2.06-.94-.94-2.06-.94 2.06-2.06.94z\"/><path d=\"M17.41 7.96l-1.37-1.37c-.4-.4-.92-.59-1.43-.59-.52 0-1.04.2-1.43.59L10.3 9.45l-7.72 7.72c-.78.78-.78 2.05 0 2.83L4 21.41c.39.39.9.59 1.41.59.51 0 1.02-.2 1.41-.59l7.78-7.78 2.81-2.81c.8-.78.8-2.07 0-2.86zM5.41 20L4 18.59l7.72-7.72 1.47 1.35L5.41 20z\"/>\n",
              "  </svg>\n",
              "      </button>\n",
              "      \n",
              "  <style>\n",
              "    .colab-df-container {\n",
              "      display:flex;\n",
              "      flex-wrap:wrap;\n",
              "      gap: 12px;\n",
              "    }\n",
              "\n",
              "    .colab-df-convert {\n",
              "      background-color: #E8F0FE;\n",
              "      border: none;\n",
              "      border-radius: 50%;\n",
              "      cursor: pointer;\n",
              "      display: none;\n",
              "      fill: #1967D2;\n",
              "      height: 32px;\n",
              "      padding: 0 0 0 0;\n",
              "      width: 32px;\n",
              "    }\n",
              "\n",
              "    .colab-df-convert:hover {\n",
              "      background-color: #E2EBFA;\n",
              "      box-shadow: 0px 1px 2px rgba(60, 64, 67, 0.3), 0px 1px 3px 1px rgba(60, 64, 67, 0.15);\n",
              "      fill: #174EA6;\n",
              "    }\n",
              "\n",
              "    [theme=dark] .colab-df-convert {\n",
              "      background-color: #3B4455;\n",
              "      fill: #D2E3FC;\n",
              "    }\n",
              "\n",
              "    [theme=dark] .colab-df-convert:hover {\n",
              "      background-color: #434B5C;\n",
              "      box-shadow: 0px 1px 3px 1px rgba(0, 0, 0, 0.15);\n",
              "      filter: drop-shadow(0px 1px 2px rgba(0, 0, 0, 0.3));\n",
              "      fill: #FFFFFF;\n",
              "    }\n",
              "  </style>\n",
              "\n",
              "      <script>\n",
              "        const buttonEl =\n",
              "          document.querySelector('#df-fb23677e-49a3-483b-9b3a-127493efda2f button.colab-df-convert');\n",
              "        buttonEl.style.display =\n",
              "          google.colab.kernel.accessAllowed ? 'block' : 'none';\n",
              "\n",
              "        async function convertToInteractive(key) {\n",
              "          const element = document.querySelector('#df-fb23677e-49a3-483b-9b3a-127493efda2f');\n",
              "          const dataTable =\n",
              "            await google.colab.kernel.invokeFunction('convertToInteractive',\n",
              "                                                     [key], {});\n",
              "          if (!dataTable) return;\n",
              "\n",
              "          const docLinkHtml = 'Like what you see? Visit the ' +\n",
              "            '<a target=\"_blank\" href=https://colab.research.google.com/notebooks/data_table.ipynb>data table notebook</a>'\n",
              "            + ' to learn more about interactive tables.';\n",
              "          element.innerHTML = '';\n",
              "          dataTable['output_type'] = 'display_data';\n",
              "          await google.colab.output.renderOutput(dataTable, element);\n",
              "          const docLink = document.createElement('div');\n",
              "          docLink.innerHTML = docLinkHtml;\n",
              "          element.appendChild(docLink);\n",
              "        }\n",
              "      </script>\n",
              "    </div>\n",
              "  </div>\n",
              "  "
            ]
          },
          "metadata": {},
          "execution_count": 19
        }
      ]
    },
    {
      "cell_type": "markdown",
      "source": [
        "# Visualização gráfica dos dados"
      ],
      "metadata": {
        "id": "JE0vbFTH7dS1"
      }
    },
    {
      "cell_type": "code",
      "source": [
        "#Variável contínua (Imediatamente percebo muitos outliers, precisa de tratamento)\n",
        "\n",
        "#Tamanho da área de plotagem\n",
        "fig = plt.figure(figsize = (12,8))\n",
        "\n",
        "#Loop pelas variáveis contínuas\n",
        "for i, col in enumerate(continuous):\n",
        "  plt.subplot(3, 3, i + 1);\n",
        "  df.boxplot(col);\n",
        "  plt.tight_layout()\n",
        "\n",
        "plt.savefig('boxplot1.png')"
      ],
      "metadata": {
        "colab": {
          "base_uri": "https://localhost:8080/",
          "height": 584
        },
        "id": "_x-fbvdU7l9C",
        "outputId": "66e49a7b-2137-4c83-9d8d-784a3f18dfff"
      },
      "execution_count": 20,
      "outputs": [
        {
          "output_type": "display_data",
          "data": {
            "text/plain": [
              "<Figure size 864x576 with 7 Axes>"
            ],
            "image/png": "[encoded data removed]"
          },
          "metadata": {
            "needs_background": "light"
          }
        }
      ]
    },
    {
      "cell_type": "code",
      "source": [
        "# Transformação de log nas variáveis contínuas\n",
        "# Utilizamos transformações para podermos comparar dados com grandezas diferentes e também conseguir uma relação entre os dados de maneira mais justa. \n",
        "# Em caso de dúvidas ver explicação completa em : http://rstudio-pubs-static.s3.amazonaws.com/289147_99e32d5403f942339c3fe05414ac62fd.html\n",
        "\n",
        "df[continuous] = np.log1p(1 + df[continuous])"
      ],
      "metadata": {
        "id": "-pp9zaZA9mDh"
      },
      "execution_count": 21,
      "outputs": []
    },
    {
      "cell_type": "code",
      "source": [
        "#Plot das variáveis contínuas\n",
        "\n",
        "#Tamanho da área de plotagem\n",
        "fig = plt.figure(figsize = (12,8))\n",
        "\n",
        "#Loop pelas variáveis contínuas\n",
        "for i, col in enumerate(continuous):\n",
        "  plt.subplot(3, 3, i + 1);\n",
        "  df.boxplot(col);\n",
        "  plt.tight_layout()\n",
        "\n",
        "plt.savefig('boxplot2.png')\n"
      ],
      "metadata": {
        "colab": {
          "base_uri": "https://localhost:8080/",
          "height": 585
        },
        "id": "MV7RljEcpLyP",
        "outputId": "9060252e-200e-4c02-8d5c-f8057c9a34af"
      },
      "execution_count": 22,
      "outputs": [
        {
          "output_type": "display_data",
          "data": {
            "text/plain": [
              "<Figure size 864x576 with 7 Axes>"
            ],
            "image/png": "[encoded data removed]"
          },
          "metadata": {
            "needs_background": "light"
          }
        }
      ]
    }
  ]
}